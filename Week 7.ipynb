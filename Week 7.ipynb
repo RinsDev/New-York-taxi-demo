{
 "cells": [
  {
   "cell_type": "markdown",
   "metadata": {},
   "source": [
    "# Оформление проекта"
   ]
  },
  {
   "cell_type": "markdown",
   "metadata": {},
   "source": [
    "Определитесь, в каком виде вы хотите представить ваш проект. Мы предлагаем вам сделать интерактивное демо, содержащее:\n",
    "\n",
    "* карты с визуализацией реального и прогнозируемого спроса на такси в выбираемый пользователем момент времени\n",
    "* временной ряд фактического и прогнозируемого спроса на такси в выбираемой области.\n",
    "\n",
    "Немного материалов о том, как в ноутбуках можно делать интерактивные графики:\n",
    "\n",
    "* https://blog.dominodatalab.com/interactive-dashboards-in-jupyter/\n",
    "* http://nbviewer.jupyter.org/github/quantopian/ipython/blob/master/examples/Interactive%20Widgets/Index.ipynb\n",
    "* https://github.com/ioam/holoviews\n",
    "\n",
    "Чтобы сдать задание, создайте демо и дайте ссылку на него."
   ]
  },
  {
   "cell_type": "code",
   "execution_count": 1,
   "metadata": {
    "collapsed": true
   },
   "outputs": [],
   "source": [
    "import pandas as pd\n",
    "import numpy as np\n",
    "import matplotlib.pyplot as plt\n",
    "import seaborn\n",
    "import gc\n",
    "from datetime import timedelta\n",
    "import datetime\n",
    "import holoviews as hv\n",
    "import param\n",
    "import paramnb\n",
    "from holoviews.operation.timeseries import rolling, rolling_outlier_std\n",
    "from holoviews.streams import Stream\n",
    "\n",
    "hv.extension('bokeh')\n",
    "\n",
    "%matplotlib inline"
   ]
  },
  {
   "cell_type": "code",
   "execution_count": 2,
   "metadata": {},
   "outputs": [
    {
     "name": "stdout",
     "output_type": "stream",
     "text": [
      "Wall time: 2.84 s\n"
     ]
    }
   ],
   "source": [
    "%%time\n",
    "data = pd.read_csv('../result_data_new.csv', index_col='pickup_datetime', parse_dates=['pickup_datetime'], \n",
    "                   usecols=['region_id', 'count', 'pickup_datetime'])\n",
    "data = data[\"2016-06-01\":]\n",
    "data.reset_index(inplace=True)\n",
    "regions = np.unique(data['region_id'])\n",
    "data.set_index([\"region_id\", \"pickup_datetime\"], inplace=True)"
   ]
  },
  {
   "cell_type": "code",
   "execution_count": 3,
   "metadata": {},
   "outputs": [
    {
     "name": "stdout",
     "output_type": "stream",
     "text": [
      "                           count\n",
      "region_id pickup_datetime       \n",
      "1075      2016-06-01          26\n",
      "1076      2016-06-01          30\n",
      "1077      2016-06-01          19\n",
      "1125      2016-06-01          39\n",
      "1126      2016-06-01          71\n",
      "                               count\n",
      "region_id pickup_datetime           \n",
      "2068      2016-06-30 23:00:00    147\n",
      "2069      2016-06-30 23:00:00     38\n",
      "2118      2016-06-30 23:00:00    173\n",
      "2119      2016-06-30 23:00:00    119\n",
      "2168      2016-06-30 23:00:00      0\n"
     ]
    }
   ],
   "source": [
    "print data.head()\n",
    "print data.tail()"
   ]
  },
  {
   "cell_type": "code",
   "execution_count": 4,
   "metadata": {},
   "outputs": [
    {
     "name": "stdout",
     "output_type": "stream",
     "text": [
      "                           count\n",
      "region_id pickup_datetime       \n",
      "1075      2016-06-01          26\n"
     ]
    }
   ],
   "source": [
    "print data[(data.index.get_level_values(\"region_id\") == 1075) \n",
    "                & (data.index.get_level_values(\"pickup_datetime\") == \"2016-06-01 00:00:00\")]"
   ]
  },
  {
   "cell_type": "code",
   "execution_count": 5,
   "metadata": {},
   "outputs": [
    {
     "name": "stdout",
     "output_type": "stream",
     "text": [
      "                                   y_t+1      y_t+2      y_t+3      y_t+4  \\\n",
      "region_id pickup_datetime                                                   \n",
      "1075      2016-05-31 23:00:00  24.333333  16.944444  10.500000   7.277778   \n",
      "          2016-06-01 00:00:00  26.333333  16.444444   5.500000   4.611111   \n",
      "          2016-06-01 01:00:00   8.000000   3.888889   5.777778   8.388889   \n",
      "          2016-06-01 02:00:00   5.333333   4.166667  10.833333  19.500000   \n",
      "          2016-06-01 03:00:00   5.777778   9.222222  19.500000  42.444444   \n",
      "\n",
      "                                   y_t+5      y_t+6  \n",
      "region_id pickup_datetime                            \n",
      "1075      2016-05-31 23:00:00   6.000000   9.111111  \n",
      "          2016-06-01 00:00:00   9.444444  20.111111  \n",
      "          2016-06-01 01:00:00  21.666667  48.888889  \n",
      "          2016-06-01 02:00:00  47.111111  88.722222  \n",
      "          2016-06-01 03:00:00  70.888889  66.000000  \n"
     ]
    }
   ],
   "source": [
    "tmp2 = pd.read_csv(\"model_results.csv\", index_col=['region_id', 'pickup_datetime'])\n",
    "print tmp2.head()"
   ]
  },
  {
   "cell_type": "code",
   "execution_count": 6,
   "metadata": {
    "collapsed": true
   },
   "outputs": [],
   "source": [
    "def get_predicted_data(df, region, date):\n",
    "    return df[(df.index.get_level_values(\"region_id\") == region) \n",
    "                & (df.index.get_level_values(\"pickup_datetime\") == date)].values.reshape((6,))\n",
    "\n",
    "def get_true_data(df, region, date):\n",
    "    result = []\n",
    "    date = pd.to_datetime(date) + timedelta(hours=1)\n",
    "    dates = pd.date_range(date, date + timedelta(hours=5), freq='1H')\n",
    "    for date in dates:\n",
    "        result.append(df[(df.index.get_level_values(\"region_id\") == region) \n",
    "                & (df.index.get_level_values(\"pickup_datetime\") == date)].values[0][0])\n",
    "    return np.array(result)"
   ]
  },
  {
   "cell_type": "code",
   "execution_count": 10,
   "metadata": {
    "collapsed": true
   },
   "outputs": [],
   "source": [
    "def draw_plot(data, key_name, value_name, label):\n",
    "    return hv.Curve(data, kdims=[key_name], vdims=[value_name], label=label)\n",
    "\n",
    "\n",
    "def draw_series(date, region):\n",
    "    true_values = get_true_data(data, region, date)\n",
    "    predicted_values = get_predicted_data(tmp2, region, date)\n",
    "    dates = pd.date_range(date, pd.to_datetime(date) + timedelta(hours=5), freq='1H')\n",
    "    #print predicted_values\n",
    "    #print true_values\n",
    "    tt = pd.DataFrame(data={'y': predicted_values, 'date': dates, 'real_y': true_values})\n",
    "    #%%opts Curve  [height=100 width=200 xaxis='bottom' show_grid=True tools=['hover']]\n",
    "    return draw_plot(tt, 'date', 'y', 'predicted') * draw_plot(tt, 'date', 'real_y', 'true')\n",
    "    #fig = plt.figure(figsize=(25,10))\n",
    "    #plt.plot(tt['date'], tt['y'])\n",
    "    #plt.plot(tt['date'], tt['real_y'])"
   ]
  },
  {
   "cell_type": "code",
   "execution_count": 12,
   "metadata": {},
   "outputs": [
    {
     "data": {
      "text/html": [
       "<div style='display: table; margin: 0 auto;'>\n",
       "\n",
       "    <div class=\"bk-root\">\n",
       "        <div class=\"bk-plotdiv\" id=\"494763e4-8882-4250-bece-ea261feb438e\"></div>\n",
       "    </div>\n",
       "<script type=\"text/javascript\">\n",
       "  \n",
       "  (function(root) {\n",
       "    function now() {\n",
       "      return new Date();\n",
       "    }\n",
       "  \n",
       "    var force = false;\n",
       "  \n",
       "    if (typeof (root._bokeh_onload_callbacks) === \"undefined\" || force === true) {\n",
       "      root._bokeh_onload_callbacks = [];\n",
       "      root._bokeh_is_loading = undefined;\n",
       "    }\n",
       "  \n",
       "  \n",
       "    \n",
       "    if (typeof (root._bokeh_timeout) === \"undefined\" || force === true) {\n",
       "      root._bokeh_timeout = Date.now() + 0;\n",
       "      root._bokeh_failed_load = false;\n",
       "    }\n",
       "  \n",
       "    var NB_LOAD_WARNING = {'data': {'text/html':\n",
       "       \"<div style='background-color: #fdd'>\\n\"+\n",
       "       \"<p>\\n\"+\n",
       "       \"BokehJS does not appear to have successfully loaded. If loading BokehJS from CDN, this \\n\"+\n",
       "       \"may be due to a slow or bad network connection. Possible fixes:\\n\"+\n",
       "       \"</p>\\n\"+\n",
       "       \"<ul>\\n\"+\n",
       "       \"<li>re-rerun `output_notebook()` to attempt to load from CDN again, or</li>\\n\"+\n",
       "       \"<li>use INLINE resources instead, as so:</li>\\n\"+\n",
       "       \"</ul>\\n\"+\n",
       "       \"<code>\\n\"+\n",
       "       \"from bokeh.resources import INLINE\\n\"+\n",
       "       \"output_notebook(resources=INLINE)\\n\"+\n",
       "       \"</code>\\n\"+\n",
       "       \"</div>\"}};\n",
       "  \n",
       "    function display_loaded() {\n",
       "      if (root.Bokeh !== undefined) {\n",
       "        var el = document.getElementById(\"494763e4-8882-4250-bece-ea261feb438e\");\n",
       "        if (el != null) {\n",
       "          el.textContent = \"BokehJS \" + Bokeh.version + \" successfully loaded.\";\n",
       "        }\n",
       "      } else if (Date.now() < root._bokeh_timeout) {\n",
       "        setTimeout(display_loaded, 100)\n",
       "      }\n",
       "    }\n",
       "  \n",
       "  \n",
       "    function run_callbacks() {\n",
       "      try {\n",
       "        root._bokeh_onload_callbacks.forEach(function(callback) { callback() });\n",
       "      }\n",
       "      finally {\n",
       "        delete root._bokeh_onload_callbacks\n",
       "      }\n",
       "      console.info(\"Bokeh: all callbacks have finished\");\n",
       "    }\n",
       "  \n",
       "    function load_libs(js_urls, callback) {\n",
       "      root._bokeh_onload_callbacks.push(callback);\n",
       "      if (root._bokeh_is_loading > 0) {\n",
       "        console.log(\"Bokeh: BokehJS is being loaded, scheduling callback at\", now());\n",
       "        return null;\n",
       "      }\n",
       "      if (js_urls == null || js_urls.length === 0) {\n",
       "        run_callbacks();\n",
       "        return null;\n",
       "      }\n",
       "      console.log(\"Bokeh: BokehJS not loaded, scheduling load and callback at\", now());\n",
       "      root._bokeh_is_loading = js_urls.length;\n",
       "      for (var i = 0; i < js_urls.length; i++) {\n",
       "        var url = js_urls[i];\n",
       "        var s = document.createElement('script');\n",
       "        s.src = url;\n",
       "        s.async = false;\n",
       "        s.onreadystatechange = s.onload = function() {\n",
       "          root._bokeh_is_loading--;\n",
       "          if (root._bokeh_is_loading === 0) {\n",
       "            console.log(\"Bokeh: all BokehJS libraries loaded\");\n",
       "            run_callbacks()\n",
       "          }\n",
       "        };\n",
       "        s.onerror = function() {\n",
       "          console.warn(\"failed to load library \" + url);\n",
       "        };\n",
       "        console.log(\"Bokeh: injecting script tag for BokehJS library: \", url);\n",
       "        document.getElementsByTagName(\"head\")[0].appendChild(s);\n",
       "      }\n",
       "    };var element = document.getElementById(\"494763e4-8882-4250-bece-ea261feb438e\");\n",
       "    if (element == null) {\n",
       "      console.log(\"Bokeh: ERROR: autoload.js configured with elementid '494763e4-8882-4250-bece-ea261feb438e' but no matching script tag was found. \")\n",
       "      return false;\n",
       "    }\n",
       "  \n",
       "    var js_urls = [];\n",
       "  \n",
       "    var inline_js = [\n",
       "      function(Bokeh) {\n",
       "        (function() {\n",
       "          var fn = function() {\n",
       "            var docs_json = {\"06ada32d-6b66-43d0-b730-21bb6d09f9c5\":{\"roots\":{\"references\":[{\"attributes\":{},\"id\":\"78887f31-4575-47f8-bd1f-261d3ff52334\",\"type\":\"WheelZoomTool\"},{\"attributes\":{\"num_minor_ticks\":5},\"id\":\"1833c422-a2f5-437c-9b9b-7118b7e663d9\",\"type\":\"DatetimeTicker\"},{\"attributes\":{\"callback\":null,\"end\":26.0,\"start\":1.0},\"id\":\"faf70937-f2a9-44ab-86e2-7ab8e370ac6c\",\"type\":\"Range1d\"},{\"attributes\":{\"line_alpha\":{\"value\":0.1},\"line_color\":{\"value\":\"#fc4f30\"},\"line_width\":{\"value\":2},\"x\":{\"field\":\"date\"},\"y\":{\"field\":\"real_y\"}},\"id\":\"22c25bf3-de97-4a06-88a1-2e85ecb5d5c8\",\"type\":\"Line\"},{\"attributes\":{\"days\":[1,15]},\"id\":\"c8e64f93-cf47-40e8-9d5e-f0419682adf6\",\"type\":\"DaysTicker\"},{\"attributes\":{\"base\":60,\"mantissas\":[1,2,5,10,15,20,30],\"max_interval\":1800000.0,\"min_interval\":1000.0,\"num_minor_ticks\":0},\"id\":\"f2300329-e712-423f-9332-ce120cfbcab9\",\"type\":\"AdaptiveTicker\"},{\"attributes\":{},\"id\":\"c3889e8a-346d-4447-a0b2-1acfc54ece4d\",\"type\":\"SaveTool\"},{\"attributes\":{\"months\":[0,4,8]},\"id\":\"72f06bb4-c75f-4152-b976-1459131a1373\",\"type\":\"MonthsTicker\"},{\"attributes\":{\"callback\":null,\"renderers\":[{\"id\":\"f22482ab-4328-4247-a333-33979eb70f71\",\"type\":\"GlyphRenderer\"}],\"tooltips\":[[\"date\",\"@{date_dt_strings}\"],[\"real_y\",\"@{real_y}\"]]},\"id\":\"dbbd0c41-8ad7-4cbe-afb0-a82aa0d20f11\",\"type\":\"HoverTool\"},{\"attributes\":{},\"id\":\"6f5cb6f6-8d68-40ce-9db2-c9bfe9ac643c\",\"type\":\"LinearScale\"},{\"attributes\":{},\"id\":\"58862919-d487-45eb-9f8f-f2b581538975\",\"type\":\"YearsTicker\"},{\"attributes\":{\"label\":{\"value\":\"true\"},\"renderers\":[{\"id\":\"f22482ab-4328-4247-a333-33979eb70f71\",\"type\":\"GlyphRenderer\"}]},\"id\":\"555f4f49-8936-4fd1-a749-5c4538c3a037\",\"type\":\"LegendItem\"},{\"attributes\":{\"plot\":{\"id\":\"c16262ab-17b8-460a-b2eb-5b039724df4b\",\"subtype\":\"Figure\",\"type\":\"Plot\"},\"ticker\":{\"id\":\"1833c422-a2f5-437c-9b9b-7118b7e663d9\",\"type\":\"DatetimeTicker\"}},\"id\":\"901b3921-808a-438c-9e4c-36a6d5093f05\",\"type\":\"Grid\"},{\"attributes\":{},\"id\":\"e4b6036b-0b03-4037-96da-d962c0ecdf75\",\"type\":\"PanTool\"},{\"attributes\":{\"bottom_units\":\"screen\",\"fill_alpha\":{\"value\":0.5},\"fill_color\":{\"value\":\"lightgrey\"},\"left_units\":\"screen\",\"level\":\"overlay\",\"line_alpha\":{\"value\":1.0},\"line_color\":{\"value\":\"black\"},\"line_dash\":[4,4],\"line_width\":{\"value\":2},\"plot\":null,\"render_mode\":\"css\",\"right_units\":\"screen\",\"top_units\":\"screen\"},\"id\":\"47e047a1-bd80-415c-b2a3-92744a8277b2\",\"type\":\"BoxAnnotation\"},{\"attributes\":{\"days\":[1,4,7,10,13,16,19,22,25,28]},\"id\":\"a30730fd-ec61-425c-8a88-321891f576e4\",\"type\":\"DaysTicker\"},{\"attributes\":{\"callback\":null,\"end\":1464753600000.0,\"start\":1464735600000.0},\"id\":\"51f51522-234f-48fe-8e1d-51bd3b0fc18f\",\"type\":\"Range1d\"},{\"attributes\":{\"base\":24,\"mantissas\":[1,2,4,6,8,12],\"max_interval\":43200000.0,\"min_interval\":3600000.0,\"num_minor_ticks\":0},\"id\":\"b4b75a3d-eafd-4c18-ae86-609e0b6e49b4\",\"type\":\"AdaptiveTicker\"},{\"attributes\":{\"callback\":null,\"column_names\":[\"date\",\"real_y\",\"date_dt_strings\"],\"data\":{\"date\":{\"__ndarray__\":\"AADYuJBQdUIAAMAnlFB1QgAAqJaXUHVCAACQBZtQdUIAAHh0nlB1QgAAYOOhUHVC\",\"dtype\":\"float64\",\"shape\":[6]},\"date_dt_strings\":[\"2016-05-31 23:00:00\",\"2016-06-01 00:00:00\",\"2016-06-01 01:00:00\",\"2016-06-01 02:00:00\",\"2016-06-01 03:00:00\",\"2016-06-01 04:00:00\"],\"real_y\":[26,14,5,2,1,7]}},\"id\":\"002f3f7b-9eec-4310-9ee3-2485c93919ae\",\"type\":\"ColumnDataSource\"},{\"attributes\":{\"click_policy\":\"mute\",\"items\":[{\"id\":\"cd89413c-f79f-4352-9140-819169545746\",\"type\":\"LegendItem\"},{\"id\":\"555f4f49-8936-4fd1-a749-5c4538c3a037\",\"type\":\"LegendItem\"}],\"plot\":{\"id\":\"c16262ab-17b8-460a-b2eb-5b039724df4b\",\"subtype\":\"Figure\",\"type\":\"Plot\"}},\"id\":\"3d85a8f9-34bd-424f-88f7-d2b7158c2baf\",\"type\":\"Legend\"},{\"attributes\":{\"line_alpha\":{\"value\":0.2},\"line_color\":{\"value\":\"#fc4f30\"},\"line_width\":{\"value\":2},\"x\":{\"field\":\"date\"},\"y\":{\"field\":\"real_y\"}},\"id\":\"b72e9a83-8b17-42cf-bd46-83cef6e79ebf\",\"type\":\"Line\"},{\"attributes\":{\"months\":[0,1,2,3,4,5,6,7,8,9,10,11]},\"id\":\"3c26ac01-b154-46cf-9abf-e23a4e738564\",\"type\":\"MonthsTicker\"},{\"attributes\":{\"callback\":null,\"column_names\":[\"date\",\"y\",\"date_dt_strings\"],\"data\":{\"date\":{\"__ndarray__\":\"AADYuJBQdUIAAMAnlFB1QgAAqJaXUHVCAACQBZtQdUIAAHh0nlB1QgAAYOOhUHVC\",\"dtype\":\"float64\",\"shape\":[6]},\"date_dt_strings\":[\"2016-05-31 23:00:00\",\"2016-06-01 00:00:00\",\"2016-06-01 01:00:00\",\"2016-06-01 02:00:00\",\"2016-06-01 03:00:00\",\"2016-06-01 04:00:00\"],\"y\":{\"__ndarray__\":\"rzBVVVVVOEA/lnEcx/EwQAAAAAAAACVAjXscx3EcHUAAAAAAAAAYQB3hOI7jOCJA\",\"dtype\":\"float64\",\"shape\":[6]}}},\"id\":\"cbc5f0b3-f1ee-4cf2-abf8-6affa54c982d\",\"type\":\"ColumnDataSource\"},{\"attributes\":{},\"id\":\"428e8a72-337d-467f-9cca-dabd326de4e4\",\"type\":\"LinearScale\"},{\"attributes\":{\"days\":[1,2,3,4,5,6,7,8,9,10,11,12,13,14,15,16,17,18,19,20,21,22,23,24,25,26,27,28,29,30,31]},\"id\":\"5590deee-120a-4b50-b2fc-a1516f0c80e8\",\"type\":\"DaysTicker\"},{\"attributes\":{\"active_drag\":\"auto\",\"active_inspect\":\"auto\",\"active_scroll\":\"auto\",\"active_tap\":\"auto\",\"tools\":[{\"id\":\"b9dba6c2-7db6-48c2-b3db-a22a11422a68\",\"type\":\"HoverTool\"},{\"id\":\"dbbd0c41-8ad7-4cbe-afb0-a82aa0d20f11\",\"type\":\"HoverTool\"},{\"id\":\"c3889e8a-346d-4447-a0b2-1acfc54ece4d\",\"type\":\"SaveTool\"},{\"id\":\"e4b6036b-0b03-4037-96da-d962c0ecdf75\",\"type\":\"PanTool\"},{\"id\":\"78887f31-4575-47f8-bd1f-261d3ff52334\",\"type\":\"WheelZoomTool\"},{\"id\":\"4b920578-9bfa-4df6-b645-b9e373f4ebf9\",\"type\":\"BoxZoomTool\"},{\"id\":\"b4767280-3851-42ad-889a-ab59c23264ac\",\"type\":\"ResetTool\"}]},\"id\":\"dc0206b5-0281-41e3-a059-8b4819241308\",\"type\":\"Toolbar\"},{\"attributes\":{\"plot\":null,\"text\":\"\",\"text_color\":{\"value\":\"black\"},\"text_font_size\":{\"value\":\"12pt\"}},\"id\":\"b7e3a662-aece-40d3-930b-58ed58d1ebf9\",\"type\":\"Title\"},{\"attributes\":{\"dimension\":1,\"plot\":{\"id\":\"c16262ab-17b8-460a-b2eb-5b039724df4b\",\"subtype\":\"Figure\",\"type\":\"Plot\"},\"ticker\":{\"id\":\"4b2b5d4f-f451-437f-b64e-13011999e9e8\",\"type\":\"BasicTicker\"}},\"id\":\"97fd2954-3854-49a8-97ec-627eb684b732\",\"type\":\"Grid\"},{\"attributes\":{},\"id\":\"4b2b5d4f-f451-437f-b64e-13011999e9e8\",\"type\":\"BasicTicker\"},{\"attributes\":{\"line_alpha\":{\"value\":0.2},\"line_color\":{\"value\":\"#30a2da\"},\"line_width\":{\"value\":2},\"x\":{\"field\":\"date\"},\"y\":{\"field\":\"y\"}},\"id\":\"434cf2e6-f0ed-4bbf-b0d3-c5ca2e7b1fbe\",\"type\":\"Line\"},{\"attributes\":{\"data_source\":{\"id\":\"002f3f7b-9eec-4310-9ee3-2485c93919ae\",\"type\":\"ColumnDataSource\"},\"glyph\":{\"id\":\"5fe14fe5-6d6a-4b91-87ca-1b1bc28fa0e6\",\"type\":\"Line\"},\"hover_glyph\":null,\"muted_glyph\":{\"id\":\"b72e9a83-8b17-42cf-bd46-83cef6e79ebf\",\"type\":\"Line\"},\"nonselection_glyph\":{\"id\":\"22c25bf3-de97-4a06-88a1-2e85ecb5d5c8\",\"type\":\"Line\"},\"selection_glyph\":null,\"view\":{\"id\":\"5af213f0-2835-485f-8816-cf7c7aa6e1c1\",\"type\":\"CDSView\"}},\"id\":\"f22482ab-4328-4247-a333-33979eb70f71\",\"type\":\"GlyphRenderer\"},{\"attributes\":{\"line_alpha\":{\"value\":0.1},\"line_color\":{\"value\":\"#30a2da\"},\"line_width\":{\"value\":2},\"x\":{\"field\":\"date\"},\"y\":{\"field\":\"y\"}},\"id\":\"42d1c409-e2f3-41ca-b885-a0951c924d02\",\"type\":\"Line\"},{\"attributes\":{\"background_fill_color\":{\"value\":\"white\"},\"below\":[{\"id\":\"a42125be-9723-4c26-8bbb-e07758522bc1\",\"type\":\"DatetimeAxis\"}],\"left\":[{\"id\":\"82d03f93-4000-4e11-bff6-78971c560fa9\",\"type\":\"LinearAxis\"}],\"min_border_bottom\":10,\"min_border_left\":10,\"min_border_right\":10,\"min_border_top\":10,\"plot_height\":400,\"plot_width\":800,\"renderers\":[{\"id\":\"a42125be-9723-4c26-8bbb-e07758522bc1\",\"type\":\"DatetimeAxis\"},{\"id\":\"901b3921-808a-438c-9e4c-36a6d5093f05\",\"type\":\"Grid\"},{\"id\":\"82d03f93-4000-4e11-bff6-78971c560fa9\",\"type\":\"LinearAxis\"},{\"id\":\"97fd2954-3854-49a8-97ec-627eb684b732\",\"type\":\"Grid\"},{\"id\":\"47e047a1-bd80-415c-b2a3-92744a8277b2\",\"type\":\"BoxAnnotation\"},{\"id\":\"3d85a8f9-34bd-424f-88f7-d2b7158c2baf\",\"type\":\"Legend\"},{\"id\":\"cd4052d5-249e-4835-bf38-c8b8d41a03df\",\"type\":\"GlyphRenderer\"},{\"id\":\"f22482ab-4328-4247-a333-33979eb70f71\",\"type\":\"GlyphRenderer\"}],\"title\":{\"id\":\"b7e3a662-aece-40d3-930b-58ed58d1ebf9\",\"type\":\"Title\"},\"toolbar\":{\"id\":\"dc0206b5-0281-41e3-a059-8b4819241308\",\"type\":\"Toolbar\"},\"x_range\":{\"id\":\"51f51522-234f-48fe-8e1d-51bd3b0fc18f\",\"type\":\"Range1d\"},\"x_scale\":{\"id\":\"428e8a72-337d-467f-9cca-dabd326de4e4\",\"type\":\"LinearScale\"},\"y_range\":{\"id\":\"faf70937-f2a9-44ab-86e2-7ab8e370ac6c\",\"type\":\"Range1d\"},\"y_scale\":{\"id\":\"6f5cb6f6-8d68-40ce-9db2-c9bfe9ac643c\",\"type\":\"LinearScale\"}},\"id\":\"c16262ab-17b8-460a-b2eb-5b039724df4b\",\"subtype\":\"Figure\",\"type\":\"Plot\"},{\"attributes\":{},\"id\":\"d12fc33a-e344-47a5-b597-12d133c488dc\",\"type\":\"DatetimeTickFormatter\"},{\"attributes\":{\"callback\":null,\"renderers\":[{\"id\":\"cd4052d5-249e-4835-bf38-c8b8d41a03df\",\"type\":\"GlyphRenderer\"}],\"tooltips\":[[\"date\",\"@{date_dt_strings}\"],[\"y\",\"@{y}\"]]},\"id\":\"b9dba6c2-7db6-48c2-b3db-a22a11422a68\",\"type\":\"HoverTool\"},{\"attributes\":{\"source\":{\"id\":\"002f3f7b-9eec-4310-9ee3-2485c93919ae\",\"type\":\"ColumnDataSource\"}},\"id\":\"5af213f0-2835-485f-8816-cf7c7aa6e1c1\",\"type\":\"CDSView\"},{\"attributes\":{\"months\":[0,6]},\"id\":\"b7374678-ed6d-4ad5-9e50-eae5b2fa591a\",\"type\":\"MonthsTicker\"},{\"attributes\":{\"max_interval\":500.0,\"num_minor_ticks\":0},\"id\":\"89df0ab8-7ba8-49af-a6f5-0b9efb19c156\",\"type\":\"AdaptiveTicker\"},{\"attributes\":{\"axis_label\":\"y\",\"formatter\":{\"id\":\"f2e55c63-aa6e-472b-bae4-467d4e2eb53a\",\"type\":\"BasicTickFormatter\"},\"plot\":{\"id\":\"c16262ab-17b8-460a-b2eb-5b039724df4b\",\"subtype\":\"Figure\",\"type\":\"Plot\"},\"ticker\":{\"id\":\"4b2b5d4f-f451-437f-b64e-13011999e9e8\",\"type\":\"BasicTicker\"}},\"id\":\"82d03f93-4000-4e11-bff6-78971c560fa9\",\"type\":\"LinearAxis\"},{\"attributes\":{},\"id\":\"b4767280-3851-42ad-889a-ab59c23264ac\",\"type\":\"ResetTool\"},{\"attributes\":{\"label\":{\"value\":\"predicted\"},\"renderers\":[{\"id\":\"cd4052d5-249e-4835-bf38-c8b8d41a03df\",\"type\":\"GlyphRenderer\"}]},\"id\":\"cd89413c-f79f-4352-9140-819169545746\",\"type\":\"LegendItem\"},{\"attributes\":{\"overlay\":{\"id\":\"47e047a1-bd80-415c-b2a3-92744a8277b2\",\"type\":\"BoxAnnotation\"}},\"id\":\"4b920578-9bfa-4df6-b645-b9e373f4ebf9\",\"type\":\"BoxZoomTool\"},{\"attributes\":{\"line_color\":{\"value\":\"#30a2da\"},\"line_width\":{\"value\":2},\"x\":{\"field\":\"date\"},\"y\":{\"field\":\"y\"}},\"id\":\"4ba1fc73-600b-4b2a-a70c-ef841d27f7e9\",\"type\":\"Line\"},{\"attributes\":{\"days\":[1,8,15,22]},\"id\":\"64f3d57c-4423-4ef3-9753-5067e9a5f635\",\"type\":\"DaysTicker\"},{\"attributes\":{\"data_source\":{\"id\":\"cbc5f0b3-f1ee-4cf2-abf8-6affa54c982d\",\"type\":\"ColumnDataSource\"},\"glyph\":{\"id\":\"4ba1fc73-600b-4b2a-a70c-ef841d27f7e9\",\"type\":\"Line\"},\"hover_glyph\":null,\"muted_glyph\":{\"id\":\"434cf2e6-f0ed-4bbf-b0d3-c5ca2e7b1fbe\",\"type\":\"Line\"},\"nonselection_glyph\":{\"id\":\"42d1c409-e2f3-41ca-b885-a0951c924d02\",\"type\":\"Line\"},\"selection_glyph\":null,\"view\":{\"id\":\"0a4d6ab2-8c9d-4b74-9377-e2d45a0efba9\",\"type\":\"CDSView\"}},\"id\":\"cd4052d5-249e-4835-bf38-c8b8d41a03df\",\"type\":\"GlyphRenderer\"},{\"attributes\":{\"months\":[0,2,4,6,8,10]},\"id\":\"fb0f4bc9-1d71-4bb4-8f27-893bd832bbac\",\"type\":\"MonthsTicker\"},{\"attributes\":{},\"id\":\"f2e55c63-aa6e-472b-bae4-467d4e2eb53a\",\"type\":\"BasicTickFormatter\"},{\"attributes\":{\"line_color\":{\"value\":\"#fc4f30\"},\"line_width\":{\"value\":2},\"x\":{\"field\":\"date\"},\"y\":{\"field\":\"real_y\"}},\"id\":\"5fe14fe5-6d6a-4b91-87ca-1b1bc28fa0e6\",\"type\":\"Line\"},{\"attributes\":{\"source\":{\"id\":\"cbc5f0b3-f1ee-4cf2-abf8-6affa54c982d\",\"type\":\"ColumnDataSource\"}},\"id\":\"0a4d6ab2-8c9d-4b74-9377-e2d45a0efba9\",\"type\":\"CDSView\"},{\"attributes\":{\"axis_label\":\"date\",\"formatter\":{\"id\":\"d12fc33a-e344-47a5-b597-12d133c488dc\",\"type\":\"DatetimeTickFormatter\"},\"plot\":{\"id\":\"c16262ab-17b8-460a-b2eb-5b039724df4b\",\"subtype\":\"Figure\",\"type\":\"Plot\"},\"ticker\":{\"id\":\"1833c422-a2f5-437c-9b9b-7118b7e663d9\",\"type\":\"DatetimeTicker\"}},\"id\":\"a42125be-9723-4c26-8bbb-e07758522bc1\",\"type\":\"DatetimeAxis\"}],\"root_ids\":[\"c16262ab-17b8-460a-b2eb-5b039724df4b\"]},\"title\":\"Bokeh Application\",\"version\":\"0.12.7\"}};\n",
       "            var render_items = [{\"docid\":\"06ada32d-6b66-43d0-b730-21bb6d09f9c5\",\"elementid\":\"494763e4-8882-4250-bece-ea261feb438e\",\"modelid\":\"c16262ab-17b8-460a-b2eb-5b039724df4b\"}];\n",
       "            \n",
       "            Bokeh.embed.embed_items(docs_json, render_items);\n",
       "          };\n",
       "          if (document.readyState != \"loading\") fn();\n",
       "          else document.addEventListener(\"DOMContentLoaded\", fn);\n",
       "        })();\n",
       "      },\n",
       "      function(Bokeh) {\n",
       "      }\n",
       "    ];\n",
       "  \n",
       "    function run_inline_js() {\n",
       "      \n",
       "      if ((root.Bokeh !== undefined) || (force === true)) {\n",
       "        for (var i = 0; i < inline_js.length; i++) {\n",
       "          inline_js[i].call(root, root.Bokeh);\n",
       "        }if (force === true) {\n",
       "          display_loaded();\n",
       "        }} else if (Date.now() < root._bokeh_timeout) {\n",
       "        setTimeout(run_inline_js, 100);\n",
       "      } else if (!root._bokeh_failed_load) {\n",
       "        console.log(\"Bokeh: BokehJS failed to load within specified timeout.\");\n",
       "        root._bokeh_failed_load = true;\n",
       "      } else if (force !== true) {\n",
       "        var cell = $(document.getElementById(\"494763e4-8882-4250-bece-ea261feb438e\")).parents('.cell').data().cell;\n",
       "        cell.output_area.append_execute_result(NB_LOAD_WARNING)\n",
       "      }\n",
       "  \n",
       "    }\n",
       "  \n",
       "    if (root._bokeh_is_loading === 0) {\n",
       "      console.log(\"Bokeh: BokehJS loaded, going straight to plotting\");\n",
       "      run_inline_js();\n",
       "    } else {\n",
       "      load_libs(js_urls, function() {\n",
       "        console.log(\"Bokeh: BokehJS plotting callback run at\", now());\n",
       "        run_inline_js();\n",
       "      });\n",
       "    }\n",
       "  }(window));\n",
       "</script></div>"
      ],
      "text/plain": [
       ":Overlay\n",
       "   .Curve.Predicted :Curve   [date]   (y)\n",
       "   .Curve.True      :Curve   [date]   (real_y)"
      ]
     },
     "execution_count": 12,
     "metadata": {},
     "output_type": "execute_result"
    }
   ],
   "source": [
    "%output size=400\n",
    "%opts Curve  [height=100 width=200 xaxis='bottom' show_grid=True tools=['hover']]\n",
    "draw_series(\"2016-05-31 23:00:00\", 1075)"
   ]
  },
  {
   "cell_type": "code",
   "execution_count": 43,
   "metadata": {},
   "outputs": [],
   "source": [
    "class TaxiPredictionExplorer(hv.streams.Stream):\n",
    "    \n",
    "    date = param.ObjectSelector(default=\"2016-05-31 23:00:00\",\n",
    "                                objects=pd.date_range(\"2016-05-31 23:00:00\", \"2016-06-30 17:00:00\", freq='1h').astype(str))\n",
    "    region = param.ObjectSelector(default=regions[0], objects=regions)\n",
    "    \n",
    "    def view(self):\n",
    "        dmap = hv.DynamicMap(draw_series, kdims=[], streams=[self])\n",
    "        dmap.redim.values(date=pd.date_range(self.date, pd.to_datetime(self.date) + timedelta(hours=6), freq='1h').astype(str))\n",
    "        dmap.reset\n",
    "        return dmap"
   ]
  },
  {
   "cell_type": "code",
   "execution_count": 44,
   "metadata": {},
   "outputs": [
    {
     "data": {
      "application/javascript": [
       "\n",
       "define('activehtml', [\"jupyter-js-widgets\"], function(widgets) {\n",
       "    var ActiveHTMLView = widgets.HTMLView.extend({\n",
       "        update: function() {\n",
       "            $(this.el).html(this.model.get('value'));\n",
       "        }\n",
       "    });\n",
       "    return {\n",
       "        ActiveHTMLView: ActiveHTMLView\n",
       "    };\n",
       "});\n"
      ],
      "text/plain": [
       "<IPython.core.display.Javascript object>"
      ]
     },
     "metadata": {},
     "output_type": "display_data"
    },
    {
     "data": {
      "application/vnd.jupyter.widget-view+json": {
       "model_id": "4ddb7f4b73f24d57802cd6c2c225b830"
      }
     },
     "metadata": {},
     "output_type": "display_data"
    },
    {
     "data": {
      "text/html": [
       "<div style='display: table; margin: 0 auto;'>\n",
       "\n",
       "    <div class=\"bk-root\">\n",
       "        <div class=\"bk-plotdiv\" id=\"70f4f9f6-a291-43e6-bdb4-258a3a0050cc\"></div>\n",
       "    </div>\n",
       "<script type=\"text/javascript\">\n",
       "  \n",
       "  (function(root) {\n",
       "    function now() {\n",
       "      return new Date();\n",
       "    }\n",
       "  \n",
       "    var force = false;\n",
       "  \n",
       "    if (typeof (root._bokeh_onload_callbacks) === \"undefined\" || force === true) {\n",
       "      root._bokeh_onload_callbacks = [];\n",
       "      root._bokeh_is_loading = undefined;\n",
       "    }\n",
       "  \n",
       "  \n",
       "    \n",
       "    if (typeof (root._bokeh_timeout) === \"undefined\" || force === true) {\n",
       "      root._bokeh_timeout = Date.now() + 0;\n",
       "      root._bokeh_failed_load = false;\n",
       "    }\n",
       "  \n",
       "    var NB_LOAD_WARNING = {'data': {'text/html':\n",
       "       \"<div style='background-color: #fdd'>\\n\"+\n",
       "       \"<p>\\n\"+\n",
       "       \"BokehJS does not appear to have successfully loaded. If loading BokehJS from CDN, this \\n\"+\n",
       "       \"may be due to a slow or bad network connection. Possible fixes:\\n\"+\n",
       "       \"</p>\\n\"+\n",
       "       \"<ul>\\n\"+\n",
       "       \"<li>re-rerun `output_notebook()` to attempt to load from CDN again, or</li>\\n\"+\n",
       "       \"<li>use INLINE resources instead, as so:</li>\\n\"+\n",
       "       \"</ul>\\n\"+\n",
       "       \"<code>\\n\"+\n",
       "       \"from bokeh.resources import INLINE\\n\"+\n",
       "       \"output_notebook(resources=INLINE)\\n\"+\n",
       "       \"</code>\\n\"+\n",
       "       \"</div>\"}};\n",
       "  \n",
       "    function display_loaded() {\n",
       "      if (root.Bokeh !== undefined) {\n",
       "        var el = document.getElementById(\"70f4f9f6-a291-43e6-bdb4-258a3a0050cc\");\n",
       "        if (el != null) {\n",
       "          el.textContent = \"BokehJS \" + Bokeh.version + \" successfully loaded.\";\n",
       "        }\n",
       "      } else if (Date.now() < root._bokeh_timeout) {\n",
       "        setTimeout(display_loaded, 100)\n",
       "      }\n",
       "    }\n",
       "  \n",
       "  \n",
       "    function run_callbacks() {\n",
       "      try {\n",
       "        root._bokeh_onload_callbacks.forEach(function(callback) { callback() });\n",
       "      }\n",
       "      finally {\n",
       "        delete root._bokeh_onload_callbacks\n",
       "      }\n",
       "      console.info(\"Bokeh: all callbacks have finished\");\n",
       "    }\n",
       "  \n",
       "    function load_libs(js_urls, callback) {\n",
       "      root._bokeh_onload_callbacks.push(callback);\n",
       "      if (root._bokeh_is_loading > 0) {\n",
       "        console.log(\"Bokeh: BokehJS is being loaded, scheduling callback at\", now());\n",
       "        return null;\n",
       "      }\n",
       "      if (js_urls == null || js_urls.length === 0) {\n",
       "        run_callbacks();\n",
       "        return null;\n",
       "      }\n",
       "      console.log(\"Bokeh: BokehJS not loaded, scheduling load and callback at\", now());\n",
       "      root._bokeh_is_loading = js_urls.length;\n",
       "      for (var i = 0; i < js_urls.length; i++) {\n",
       "        var url = js_urls[i];\n",
       "        var s = document.createElement('script');\n",
       "        s.src = url;\n",
       "        s.async = false;\n",
       "        s.onreadystatechange = s.onload = function() {\n",
       "          root._bokeh_is_loading--;\n",
       "          if (root._bokeh_is_loading === 0) {\n",
       "            console.log(\"Bokeh: all BokehJS libraries loaded\");\n",
       "            run_callbacks()\n",
       "          }\n",
       "        };\n",
       "        s.onerror = function() {\n",
       "          console.warn(\"failed to load library \" + url);\n",
       "        };\n",
       "        console.log(\"Bokeh: injecting script tag for BokehJS library: \", url);\n",
       "        document.getElementsByTagName(\"head\")[0].appendChild(s);\n",
       "      }\n",
       "    };var element = document.getElementById(\"70f4f9f6-a291-43e6-bdb4-258a3a0050cc\");\n",
       "    if (element == null) {\n",
       "      console.log(\"Bokeh: ERROR: autoload.js configured with elementid '70f4f9f6-a291-43e6-bdb4-258a3a0050cc' but no matching script tag was found. \")\n",
       "      return false;\n",
       "    }\n",
       "  \n",
       "    var js_urls = [];\n",
       "  \n",
       "    var inline_js = [\n",
       "      function(Bokeh) {\n",
       "        (function() {\n",
       "          var fn = function() {\n",
       "            var docs_json = {\"973551b4-7b01-426c-8f30-037ce268ce6d\":{\"roots\":{\"references\":[{\"attributes\":{\"line_alpha\":{\"value\":0.1},\"line_color\":{\"value\":\"#30a2da\"},\"line_width\":{\"value\":2},\"x\":{\"field\":\"date\"},\"y\":{\"field\":\"y\"}},\"id\":\"7a1a8e75-a37c-4a0e-b3f4-b508f97ba502\",\"type\":\"Line\"},{\"attributes\":{\"months\":[0,2,4,6,8,10]},\"id\":\"97441d12-da71-4bed-8918-fb880de00b18\",\"type\":\"MonthsTicker\"},{\"attributes\":{\"callback\":null,\"end\":26.0,\"start\":1.0},\"id\":\"808b9d02-861d-4e13-994b-6aeba4be8e40\",\"type\":\"Range1d\"},{\"attributes\":{\"plot\":null,\"text\":\"\",\"text_color\":{\"value\":\"black\"},\"text_font_size\":{\"value\":\"12pt\"}},\"id\":\"c9ce2b0f-f4c8-4172-afcd-b7c5b3d2b637\",\"type\":\"Title\"},{\"attributes\":{\"label\":{\"value\":\"predicted\"},\"renderers\":[{\"id\":\"c0f789b4-1b94-41e5-9c44-38a6174c7639\",\"type\":\"GlyphRenderer\"}]},\"id\":\"53e94049-3161-4d9c-b215-fd1432aa3423\",\"type\":\"LegendItem\"},{\"attributes\":{\"background_fill_color\":{\"value\":\"white\"},\"below\":[{\"id\":\"6c971941-9e81-4ee8-b7cb-415e57279d99\",\"type\":\"DatetimeAxis\"}],\"left\":[{\"id\":\"28432268-b850-4af0-9b5f-f992e7180571\",\"type\":\"LinearAxis\"}],\"min_border_bottom\":10,\"min_border_left\":10,\"min_border_right\":10,\"min_border_top\":10,\"plot_height\":400,\"plot_width\":800,\"renderers\":[{\"id\":\"6c971941-9e81-4ee8-b7cb-415e57279d99\",\"type\":\"DatetimeAxis\"},{\"id\":\"90b4ac2d-6487-448e-b689-e280a21e82fa\",\"type\":\"Grid\"},{\"id\":\"28432268-b850-4af0-9b5f-f992e7180571\",\"type\":\"LinearAxis\"},{\"id\":\"0196f68c-0223-42c3-abfc-94d78ad2edcb\",\"type\":\"Grid\"},{\"id\":\"84ac6c41-e577-4b4f-969f-dc12ea776e49\",\"type\":\"BoxAnnotation\"},{\"id\":\"c9830e09-6be7-4a6b-b6da-4b366f8265a2\",\"type\":\"Legend\"},{\"id\":\"c0f789b4-1b94-41e5-9c44-38a6174c7639\",\"type\":\"GlyphRenderer\"},{\"id\":\"c8af7cea-d231-4212-8769-0c20de6bdacf\",\"type\":\"GlyphRenderer\"}],\"title\":{\"id\":\"c9ce2b0f-f4c8-4172-afcd-b7c5b3d2b637\",\"type\":\"Title\"},\"toolbar\":{\"id\":\"7b21ec17-c091-46ed-9189-e60a5297b3c1\",\"type\":\"Toolbar\"},\"x_range\":{\"id\":\"aa6decc1-4333-4e90-907d-06e53d040bbd\",\"type\":\"Range1d\"},\"x_scale\":{\"id\":\"faa22b36-945a-4f66-8d52-d168753de607\",\"type\":\"LinearScale\"},\"y_range\":{\"id\":\"808b9d02-861d-4e13-994b-6aeba4be8e40\",\"type\":\"Range1d\"},\"y_scale\":{\"id\":\"6670f143-9adc-4910-9ed3-edcb8ee4a67c\",\"type\":\"LinearScale\"}},\"id\":\"62c3634a-32f7-41d6-85f8-929772006ce3\",\"subtype\":\"Figure\",\"type\":\"Plot\"},{\"attributes\":{\"line_color\":{\"value\":\"#30a2da\"},\"line_width\":{\"value\":2},\"x\":{\"field\":\"date\"},\"y\":{\"field\":\"y\"}},\"id\":\"4cb4088b-f15e-4104-bcfb-d1f8adcc7fe8\",\"type\":\"Line\"},{\"attributes\":{\"plot\":{\"id\":\"62c3634a-32f7-41d6-85f8-929772006ce3\",\"subtype\":\"Figure\",\"type\":\"Plot\"},\"ticker\":{\"id\":\"ea39a95f-702b-40be-8f9a-5f32667a254a\",\"type\":\"DatetimeTicker\"}},\"id\":\"90b4ac2d-6487-448e-b689-e280a21e82fa\",\"type\":\"Grid\"},{\"attributes\":{\"callback\":null,\"renderers\":[{\"id\":\"c8af7cea-d231-4212-8769-0c20de6bdacf\",\"type\":\"GlyphRenderer\"}],\"tooltips\":[[\"date\",\"@{date_dt_strings}\"],[\"real_y\",\"@{real_y}\"]]},\"id\":\"3c0f36bd-36ee-4d1f-9174-c2dbb91bc3c9\",\"type\":\"HoverTool\"},{\"attributes\":{\"click_policy\":\"mute\",\"items\":[{\"id\":\"53e94049-3161-4d9c-b215-fd1432aa3423\",\"type\":\"LegendItem\"},{\"id\":\"8939d6ed-3b67-4b97-a129-2819e50facec\",\"type\":\"LegendItem\"}],\"plot\":{\"id\":\"62c3634a-32f7-41d6-85f8-929772006ce3\",\"subtype\":\"Figure\",\"type\":\"Plot\"}},\"id\":\"c9830e09-6be7-4a6b-b6da-4b366f8265a2\",\"type\":\"Legend\"},{\"attributes\":{\"callback\":null,\"column_names\":[\"date\",\"y\",\"date_dt_strings\"],\"data\":{\"date\":{\"__ndarray__\":\"AADYuJBQdUIAAMAnlFB1QgAAqJaXUHVCAACQBZtQdUIAAHh0nlB1QgAAYOOhUHVC\",\"dtype\":\"float64\",\"shape\":[6]},\"date_dt_strings\":[\"2016-05-31 23:00:00\",\"2016-06-01 00:00:00\",\"2016-06-01 01:00:00\",\"2016-06-01 02:00:00\",\"2016-06-01 03:00:00\",\"2016-06-01 04:00:00\"],\"y\":{\"__ndarray__\":\"rzBVVVVVOEA/lnEcx/EwQAAAAAAAACVAjXscx3EcHUAAAAAAAAAYQB3hOI7jOCJA\",\"dtype\":\"float64\",\"shape\":[6]}}},\"id\":\"45bd7403-9df0-4066-af29-432a17df2dc0\",\"type\":\"ColumnDataSource\"},{\"attributes\":{},\"id\":\"e1f234b8-dfe1-433c-9762-a767f2e46a2e\",\"type\":\"SaveTool\"},{\"attributes\":{\"axis_label\":\"date\",\"formatter\":{\"id\":\"b17a3340-ec62-42f4-8550-ddfe221652c5\",\"type\":\"DatetimeTickFormatter\"},\"plot\":{\"id\":\"62c3634a-32f7-41d6-85f8-929772006ce3\",\"subtype\":\"Figure\",\"type\":\"Plot\"},\"ticker\":{\"id\":\"ea39a95f-702b-40be-8f9a-5f32667a254a\",\"type\":\"DatetimeTicker\"}},\"id\":\"6c971941-9e81-4ee8-b7cb-415e57279d99\",\"type\":\"DatetimeAxis\"},{\"attributes\":{\"line_alpha\":{\"value\":0.1},\"line_color\":{\"value\":\"#fc4f30\"},\"line_width\":{\"value\":2},\"x\":{\"field\":\"date\"},\"y\":{\"field\":\"real_y\"}},\"id\":\"1b7ec59b-65cc-48f3-aa8e-1a9b086392b0\",\"type\":\"Line\"},{\"attributes\":{},\"id\":\"b17a3340-ec62-42f4-8550-ddfe221652c5\",\"type\":\"DatetimeTickFormatter\"},{\"attributes\":{\"months\":[0,6]},\"id\":\"28cf4507-37d2-4102-bb7f-290d8ed612f1\",\"type\":\"MonthsTicker\"},{\"attributes\":{\"months\":[0,1,2,3,4,5,6,7,8,9,10,11]},\"id\":\"cff8e453-0659-4949-8107-cacd2a3d9a0f\",\"type\":\"MonthsTicker\"},{\"attributes\":{\"num_minor_ticks\":5},\"id\":\"ea39a95f-702b-40be-8f9a-5f32667a254a\",\"type\":\"DatetimeTicker\"},{\"attributes\":{},\"id\":\"832a9493-3e8a-481c-ba06-3a92418563ca\",\"type\":\"WheelZoomTool\"},{\"attributes\":{},\"id\":\"02b82a98-7d5a-4503-9cf3-8cef473f7a46\",\"type\":\"BasicTickFormatter\"},{\"attributes\":{\"dimension\":1,\"plot\":{\"id\":\"62c3634a-32f7-41d6-85f8-929772006ce3\",\"subtype\":\"Figure\",\"type\":\"Plot\"},\"ticker\":{\"id\":\"004a6705-55a4-4c6e-aef6-c7d2d9e0d07f\",\"type\":\"BasicTicker\"}},\"id\":\"0196f68c-0223-42c3-abfc-94d78ad2edcb\",\"type\":\"Grid\"},{\"attributes\":{\"source\":{\"id\":\"3c642cdf-ccd1-4368-b0c9-de40a5acd540\",\"type\":\"ColumnDataSource\"}},\"id\":\"1aca2f3a-e74a-4302-8391-6c7944669c61\",\"type\":\"CDSView\"},{\"attributes\":{\"callback\":null,\"end\":1464753600000.0,\"start\":1464735600000.0},\"id\":\"aa6decc1-4333-4e90-907d-06e53d040bbd\",\"type\":\"Range1d\"},{\"attributes\":{\"base\":60,\"mantissas\":[1,2,5,10,15,20,30],\"max_interval\":1800000.0,\"min_interval\":1000.0,\"num_minor_ticks\":0},\"id\":\"f2ee4876-8290-4184-9415-289f51e9d2c0\",\"type\":\"AdaptiveTicker\"},{\"attributes\":{},\"id\":\"96bf9066-a312-4c8f-b1b9-8c3424372d2c\",\"type\":\"YearsTicker\"},{\"attributes\":{\"active_drag\":\"auto\",\"active_inspect\":\"auto\",\"active_scroll\":\"auto\",\"active_tap\":\"auto\",\"tools\":[{\"id\":\"93b3e47f-ebc2-42d1-9e6b-978ede51bcc2\",\"type\":\"HoverTool\"},{\"id\":\"3c0f36bd-36ee-4d1f-9174-c2dbb91bc3c9\",\"type\":\"HoverTool\"},{\"id\":\"e1f234b8-dfe1-433c-9762-a767f2e46a2e\",\"type\":\"SaveTool\"},{\"id\":\"0206e850-356c-4787-be0e-48d979441019\",\"type\":\"PanTool\"},{\"id\":\"832a9493-3e8a-481c-ba06-3a92418563ca\",\"type\":\"WheelZoomTool\"},{\"id\":\"005bb742-bfca-4abd-b905-6996da651ce1\",\"type\":\"BoxZoomTool\"},{\"id\":\"e7cd0904-23e8-4ef8-ad9f-0d0904fed6bd\",\"type\":\"ResetTool\"}]},\"id\":\"7b21ec17-c091-46ed-9189-e60a5297b3c1\",\"type\":\"Toolbar\"},{\"attributes\":{\"days\":[1,4,7,10,13,16,19,22,25,28]},\"id\":\"8f97581a-2df6-429c-adec-2ac572cb65e8\",\"type\":\"DaysTicker\"},{\"attributes\":{\"max_interval\":500.0,\"num_minor_ticks\":0},\"id\":\"36d715cf-2218-4a28-b71e-2e4ea3386b75\",\"type\":\"AdaptiveTicker\"},{\"attributes\":{\"base\":24,\"mantissas\":[1,2,4,6,8,12],\"max_interval\":43200000.0,\"min_interval\":3600000.0,\"num_minor_ticks\":0},\"id\":\"5d31f21a-2d6a-4592-a280-5472aefe8356\",\"type\":\"AdaptiveTicker\"},{\"attributes\":{\"data_source\":{\"id\":\"3c642cdf-ccd1-4368-b0c9-de40a5acd540\",\"type\":\"ColumnDataSource\"},\"glyph\":{\"id\":\"e591a0ad-e49d-4dae-9cb2-7a986d9dfee2\",\"type\":\"Line\"},\"hover_glyph\":null,\"muted_glyph\":{\"id\":\"fd163105-a2bb-44e8-bce8-f7636e53bca8\",\"type\":\"Line\"},\"nonselection_glyph\":{\"id\":\"1b7ec59b-65cc-48f3-aa8e-1a9b086392b0\",\"type\":\"Line\"},\"selection_glyph\":null,\"view\":{\"id\":\"1aca2f3a-e74a-4302-8391-6c7944669c61\",\"type\":\"CDSView\"}},\"id\":\"c8af7cea-d231-4212-8769-0c20de6bdacf\",\"type\":\"GlyphRenderer\"},{\"attributes\":{\"bottom_units\":\"screen\",\"fill_alpha\":{\"value\":0.5},\"fill_color\":{\"value\":\"lightgrey\"},\"left_units\":\"screen\",\"level\":\"overlay\",\"line_alpha\":{\"value\":1.0},\"line_color\":{\"value\":\"black\"},\"line_dash\":[4,4],\"line_width\":{\"value\":2},\"plot\":null,\"render_mode\":\"css\",\"right_units\":\"screen\",\"top_units\":\"screen\"},\"id\":\"84ac6c41-e577-4b4f-969f-dc12ea776e49\",\"type\":\"BoxAnnotation\"},{\"attributes\":{\"line_color\":{\"value\":\"#fc4f30\"},\"line_width\":{\"value\":2},\"x\":{\"field\":\"date\"},\"y\":{\"field\":\"real_y\"}},\"id\":\"e591a0ad-e49d-4dae-9cb2-7a986d9dfee2\",\"type\":\"Line\"},{\"attributes\":{\"callback\":null,\"column_names\":[\"date\",\"real_y\",\"date_dt_strings\"],\"data\":{\"date\":{\"__ndarray__\":\"AADYuJBQdUIAAMAnlFB1QgAAqJaXUHVCAACQBZtQdUIAAHh0nlB1QgAAYOOhUHVC\",\"dtype\":\"float64\",\"shape\":[6]},\"date_dt_strings\":[\"2016-05-31 23:00:00\",\"2016-06-01 00:00:00\",\"2016-06-01 01:00:00\",\"2016-06-01 02:00:00\",\"2016-06-01 03:00:00\",\"2016-06-01 04:00:00\"],\"real_y\":[26,14,5,2,1,7]}},\"id\":\"3c642cdf-ccd1-4368-b0c9-de40a5acd540\",\"type\":\"ColumnDataSource\"},{\"attributes\":{},\"id\":\"e7cd0904-23e8-4ef8-ad9f-0d0904fed6bd\",\"type\":\"ResetTool\"},{\"attributes\":{\"days\":[1,8,15,22]},\"id\":\"a82281cb-b540-4145-92de-8e6e4e1dc081\",\"type\":\"DaysTicker\"},{\"attributes\":{\"line_alpha\":{\"value\":0.2},\"line_color\":{\"value\":\"#30a2da\"},\"line_width\":{\"value\":2},\"x\":{\"field\":\"date\"},\"y\":{\"field\":\"y\"}},\"id\":\"05f0dbe7-4497-4a23-a6de-0cdd63f33711\",\"type\":\"Line\"},{\"attributes\":{\"source\":{\"id\":\"45bd7403-9df0-4066-af29-432a17df2dc0\",\"type\":\"ColumnDataSource\"}},\"id\":\"f9b9d2db-9502-4f73-9025-06f5d1057919\",\"type\":\"CDSView\"},{\"attributes\":{\"overlay\":{\"id\":\"84ac6c41-e577-4b4f-969f-dc12ea776e49\",\"type\":\"BoxAnnotation\"}},\"id\":\"005bb742-bfca-4abd-b905-6996da651ce1\",\"type\":\"BoxZoomTool\"},{\"attributes\":{\"line_alpha\":{\"value\":0.2},\"line_color\":{\"value\":\"#fc4f30\"},\"line_width\":{\"value\":2},\"x\":{\"field\":\"date\"},\"y\":{\"field\":\"real_y\"}},\"id\":\"fd163105-a2bb-44e8-bce8-f7636e53bca8\",\"type\":\"Line\"},{\"attributes\":{\"callback\":null,\"renderers\":[{\"id\":\"c0f789b4-1b94-41e5-9c44-38a6174c7639\",\"type\":\"GlyphRenderer\"}],\"tooltips\":[[\"date\",\"@{date_dt_strings}\"],[\"y\",\"@{y}\"]]},\"id\":\"93b3e47f-ebc2-42d1-9e6b-978ede51bcc2\",\"type\":\"HoverTool\"},{\"attributes\":{\"label\":{\"value\":\"true\"},\"renderers\":[{\"id\":\"c8af7cea-d231-4212-8769-0c20de6bdacf\",\"type\":\"GlyphRenderer\"}]},\"id\":\"8939d6ed-3b67-4b97-a129-2819e50facec\",\"type\":\"LegendItem\"},{\"attributes\":{},\"id\":\"004a6705-55a4-4c6e-aef6-c7d2d9e0d07f\",\"type\":\"BasicTicker\"},{\"attributes\":{},\"id\":\"0206e850-356c-4787-be0e-48d979441019\",\"type\":\"PanTool\"},{\"attributes\":{},\"id\":\"6670f143-9adc-4910-9ed3-edcb8ee4a67c\",\"type\":\"LinearScale\"},{\"attributes\":{},\"id\":\"faa22b36-945a-4f66-8d52-d168753de607\",\"type\":\"LinearScale\"},{\"attributes\":{\"data_source\":{\"id\":\"45bd7403-9df0-4066-af29-432a17df2dc0\",\"type\":\"ColumnDataSource\"},\"glyph\":{\"id\":\"4cb4088b-f15e-4104-bcfb-d1f8adcc7fe8\",\"type\":\"Line\"},\"hover_glyph\":null,\"muted_glyph\":{\"id\":\"05f0dbe7-4497-4a23-a6de-0cdd63f33711\",\"type\":\"Line\"},\"nonselection_glyph\":{\"id\":\"7a1a8e75-a37c-4a0e-b3f4-b508f97ba502\",\"type\":\"Line\"},\"selection_glyph\":null,\"view\":{\"id\":\"f9b9d2db-9502-4f73-9025-06f5d1057919\",\"type\":\"CDSView\"}},\"id\":\"c0f789b4-1b94-41e5-9c44-38a6174c7639\",\"type\":\"GlyphRenderer\"},{\"attributes\":{\"days\":[1,15]},\"id\":\"2331031f-3bf9-4d27-a1f0-09bd54c3f544\",\"type\":\"DaysTicker\"},{\"attributes\":{\"months\":[0,4,8]},\"id\":\"69d493c1-76a7-4071-8220-c631982d43ad\",\"type\":\"MonthsTicker\"},{\"attributes\":{\"axis_label\":\"y\",\"formatter\":{\"id\":\"02b82a98-7d5a-4503-9cf3-8cef473f7a46\",\"type\":\"BasicTickFormatter\"},\"plot\":{\"id\":\"62c3634a-32f7-41d6-85f8-929772006ce3\",\"subtype\":\"Figure\",\"type\":\"Plot\"},\"ticker\":{\"id\":\"004a6705-55a4-4c6e-aef6-c7d2d9e0d07f\",\"type\":\"BasicTicker\"}},\"id\":\"28432268-b850-4af0-9b5f-f992e7180571\",\"type\":\"LinearAxis\"},{\"attributes\":{\"days\":[1,2,3,4,5,6,7,8,9,10,11,12,13,14,15,16,17,18,19,20,21,22,23,24,25,26,27,28,29,30,31]},\"id\":\"0cf27468-69c5-4427-bf2e-ee7851f61a9b\",\"type\":\"DaysTicker\"}],\"root_ids\":[\"62c3634a-32f7-41d6-85f8-929772006ce3\"]},\"title\":\"Bokeh Application\",\"version\":\"0.12.7\"}};\n",
       "            var render_items = [{\"docid\":\"973551b4-7b01-426c-8f30-037ce268ce6d\",\"elementid\":\"70f4f9f6-a291-43e6-bdb4-258a3a0050cc\",\"modelid\":\"62c3634a-32f7-41d6-85f8-929772006ce3\",\"notebook_comms_target\":\"f223d45d0a064675bca034986759f2d9\"}];\n",
       "            \n",
       "            Bokeh.embed.embed_items(docs_json, render_items);\n",
       "          };\n",
       "          if (document.readyState != \"loading\") fn();\n",
       "          else document.addEventListener(\"DOMContentLoaded\", fn);\n",
       "        })();\n",
       "      },\n",
       "      function(Bokeh) {\n",
       "      }\n",
       "    ];\n",
       "  \n",
       "    function run_inline_js() {\n",
       "      \n",
       "      if ((root.Bokeh !== undefined) || (force === true)) {\n",
       "        for (var i = 0; i < inline_js.length; i++) {\n",
       "          inline_js[i].call(root, root.Bokeh);\n",
       "        }if (force === true) {\n",
       "          display_loaded();\n",
       "        }} else if (Date.now() < root._bokeh_timeout) {\n",
       "        setTimeout(run_inline_js, 100);\n",
       "      } else if (!root._bokeh_failed_load) {\n",
       "        console.log(\"Bokeh: BokehJS failed to load within specified timeout.\");\n",
       "        root._bokeh_failed_load = true;\n",
       "      } else if (force !== true) {\n",
       "        var cell = $(document.getElementById(\"70f4f9f6-a291-43e6-bdb4-258a3a0050cc\")).parents('.cell').data().cell;\n",
       "        cell.output_area.append_execute_result(NB_LOAD_WARNING)\n",
       "      }\n",
       "  \n",
       "    }\n",
       "  \n",
       "    if (root._bokeh_is_loading === 0) {\n",
       "      console.log(\"Bokeh: BokehJS loaded, going straight to plotting\");\n",
       "      run_inline_js();\n",
       "    } else {\n",
       "      load_libs(js_urls, function() {\n",
       "        console.log(\"Bokeh: BokehJS plotting callback run at\", now());\n",
       "        run_inline_js();\n",
       "      });\n",
       "    }\n",
       "  }(window));\n",
       "</script></div>"
      ],
      "text/plain": [
       ":DynamicMap   []"
      ]
     },
     "execution_count": 44,
     "metadata": {},
     "output_type": "execute_result"
    }
   ],
   "source": [
    "%opts Curve [width=200 height=100]\n",
    "explorer = TaxiPredictionExplorer()\n",
    "paramnb.Widgets(explorer, continuous_update=True, callback=explorer.event, on_init=True)\n",
    "explorer.view()"
   ]
  }
 ],
 "metadata": {
  "kernelspec": {
   "display_name": "Python 2",
   "language": "python",
   "name": "python2"
  },
  "language_info": {
   "codemirror_mode": {
    "name": "ipython",
    "version": 2
   },
   "file_extension": ".py",
   "mimetype": "text/x-python",
   "name": "python",
   "nbconvert_exporter": "python",
   "pygments_lexer": "ipython2",
   "version": "2.7.13"
  }
 },
 "nbformat": 4,
 "nbformat_minor": 2
}
