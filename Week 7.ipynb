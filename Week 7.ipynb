{
 "cells": [
  {
   "cell_type": "markdown",
   "metadata": {
    "deletable": true,
    "editable": true
   },
   "source": [
    "# Оформление проекта"
   ]
  },
  {
   "cell_type": "markdown",
   "metadata": {
    "deletable": true,
    "editable": true
   },
   "source": [
    "Определитесь, в каком виде вы хотите представить ваш проект. Мы предлагаем вам сделать интерактивное демо, содержащее:\n",
    "\n",
    "* карты с визуализацией реального и прогнозируемого спроса на такси в выбираемый пользователем момент времени\n",
    "* временной ряд фактического и прогнозируемого спроса на такси в выбираемой области.\n",
    "\n",
    "Немного материалов о том, как в ноутбуках можно делать интерактивные графики:\n",
    "\n",
    "* https://blog.dominodatalab.com/interactive-dashboards-in-jupyter/\n",
    "* http://nbviewer.jupyter.org/github/quantopian/ipython/blob/master/examples/Interactive%20Widgets/Index.ipynb\n",
    "* https://github.com/ioam/holoviews\n",
    "\n",
    "Чтобы сдать задание, создайте демо и дайте ссылку на него."
   ]
  },
  {
   "cell_type": "code",
   "execution_count": 2,
   "metadata": {
    "collapsed": false,
    "deletable": true,
    "editable": true
   },
   "outputs": [
    {
     "ename": "AttributeError",
     "evalue": "'module' object has no attribute 'extension'",
     "output_type": "error",
     "traceback": [
      "\u001b[0;31m---------------------------------------------------------------------------\u001b[0m",
      "\u001b[0;31mAttributeError\u001b[0m                            Traceback (most recent call last)",
      "\u001b[0;32m<ipython-input-2-c5d83ac31806>\u001b[0m in \u001b[0;36m<module>\u001b[0;34m()\u001b[0m\n\u001b[1;32m      9\u001b[0m \u001b[1;32mimport\u001b[0m \u001b[0mparamnb\u001b[0m\u001b[1;33m\u001b[0m\u001b[0m\n\u001b[1;32m     10\u001b[0m \u001b[1;33m\u001b[0m\u001b[0m\n\u001b[0;32m---> 11\u001b[0;31m \u001b[0mhv\u001b[0m\u001b[1;33m.\u001b[0m\u001b[0mextension\u001b[0m\u001b[1;33m(\u001b[0m\u001b[1;34m'bokeh'\u001b[0m\u001b[1;33m)\u001b[0m\u001b[1;33m\u001b[0m\u001b[0m\n\u001b[0m\u001b[1;32m     12\u001b[0m \u001b[1;33m\u001b[0m\u001b[0m\n\u001b[1;32m     13\u001b[0m \u001b[0mget_ipython\u001b[0m\u001b[1;33m(\u001b[0m\u001b[1;33m)\u001b[0m\u001b[1;33m.\u001b[0m\u001b[0mmagic\u001b[0m\u001b[1;33m(\u001b[0m\u001b[1;34m'matplotlib inline'\u001b[0m\u001b[1;33m)\u001b[0m\u001b[1;33m\u001b[0m\u001b[0m\n",
      "\u001b[0;31mAttributeError\u001b[0m: 'module' object has no attribute 'extension'"
     ]
    }
   ],
   "source": [
    "import pandas as pd\n",
    "import numpy as np\n",
    "import matplotlib.pyplot as plt\n",
    "import gc\n",
    "from datetime import timedelta\n",
    "import datetime\n",
    "import holoviews as hv\n",
    "import param\n",
    "import paramnb\n",
    "\n",
    "hv.extension('bokeh')\n",
    "\n",
    "%matplotlib inline"
   ]
  },
  {
   "cell_type": "code",
   "execution_count": 2,
   "metadata": {
    "collapsed": false
   },
   "outputs": [
    {
     "name": "stderr",
     "output_type": "stream",
     "text": [
      "Enabling notebook extension jupyter-js-widgets/extension...\n",
      "      - Validating: ok\n"
     ]
    }
   ],
   "source": [
    "! jupyter nbextension enable --py --sys-prefix widgetsnbextension"
   ]
  },
  {
   "cell_type": "code",
   "execution_count": 3,
   "metadata": {
    "collapsed": false,
    "deletable": true,
    "editable": true
   },
   "outputs": [
    {
     "name": "stdout",
     "output_type": "stream",
     "text": [
      "Wall time: 2.74 s\n"
     ]
    }
   ],
   "source": [
    "%%time\n",
    "data = pd.read_csv('../result_data_new.csv', index_col='pickup_datetime', parse_dates=['pickup_datetime'], \n",
    "                   usecols=['region_id', 'count', 'pickup_datetime'])\n",
    "data = data[\"2016-06-01\":]\n",
    "data.reset_index(inplace=True)\n",
    "regions = np.unique(data['region_id'])\n",
    "data.set_index([\"region_id\", \"pickup_datetime\"], inplace=True)"
   ]
  },
  {
   "cell_type": "code",
   "execution_count": 4,
   "metadata": {
    "collapsed": false,
    "deletable": true,
    "editable": true
   },
   "outputs": [
    {
     "name": "stdout",
     "output_type": "stream",
     "text": [
      "                           count\n",
      "region_id pickup_datetime       \n",
      "1075      2016-06-01          26\n",
      "1076      2016-06-01          30\n",
      "1077      2016-06-01          19\n",
      "1125      2016-06-01          39\n",
      "1126      2016-06-01          71\n",
      "                               count\n",
      "region_id pickup_datetime           \n",
      "2068      2016-06-30 23:00:00    147\n",
      "2069      2016-06-30 23:00:00     38\n",
      "2118      2016-06-30 23:00:00    173\n",
      "2119      2016-06-30 23:00:00    119\n",
      "2168      2016-06-30 23:00:00      0\n"
     ]
    }
   ],
   "source": [
    "print(data.head())\n",
    "print(data.tail())"
   ]
  },
  {
   "cell_type": "code",
   "execution_count": 5,
   "metadata": {
    "collapsed": false,
    "deletable": true,
    "editable": true
   },
   "outputs": [
    {
     "name": "stdout",
     "output_type": "stream",
     "text": [
      "                           count\n",
      "region_id pickup_datetime       \n",
      "1075      2016-06-01          26\n"
     ]
    }
   ],
   "source": [
    "print(data[(data.index.get_level_values(\"region_id\") == 1075) \n",
    "                & (data.index.get_level_values(\"pickup_datetime\") == \"2016-06-01 00:00:00\")])"
   ]
  },
  {
   "cell_type": "code",
   "execution_count": 6,
   "metadata": {
    "collapsed": false,
    "deletable": true,
    "editable": true
   },
   "outputs": [
    {
     "name": "stdout",
     "output_type": "stream",
     "text": [
      "                                   y_t+1      y_t+2      y_t+3      y_t+4  \\\n",
      "region_id pickup_datetime                                                   \n",
      "1075      2016-05-31 23:00:00  24.333333  16.944444  10.500000   7.277778   \n",
      "          2016-06-01 00:00:00  26.333333  16.444444   5.500000   4.611111   \n",
      "          2016-06-01 01:00:00   8.000000   3.888889   5.777778   8.388889   \n",
      "          2016-06-01 02:00:00   5.333333   4.166667  10.833333  19.500000   \n",
      "          2016-06-01 03:00:00   5.777778   9.222222  19.500000  42.444444   \n",
      "\n",
      "                                   y_t+5      y_t+6  \n",
      "region_id pickup_datetime                            \n",
      "1075      2016-05-31 23:00:00   6.000000   9.111111  \n",
      "          2016-06-01 00:00:00   9.444444  20.111111  \n",
      "          2016-06-01 01:00:00  21.666667  48.888889  \n",
      "          2016-06-01 02:00:00  47.111111  88.722222  \n",
      "          2016-06-01 03:00:00  70.888889  66.000000  \n"
     ]
    }
   ],
   "source": [
    "tmp2 = pd.read_csv(\"model_results.csv\", index_col=['region_id', 'pickup_datetime'])\n",
    "print(tmp2.head())"
   ]
  },
  {
   "cell_type": "code",
   "execution_count": 7,
   "metadata": {
    "collapsed": true,
    "deletable": true,
    "editable": true
   },
   "outputs": [],
   "source": [
    "def get_predicted_data(df, region, date):\n",
    "    return df[(df.index.get_level_values(\"region_id\") == region) \n",
    "                & (df.index.get_level_values(\"pickup_datetime\") == date)].values.reshape((6,))\n",
    "\n",
    "def get_true_data(df, region, date):\n",
    "    result = []\n",
    "    date = pd.to_datetime(date) + timedelta(hours=1)\n",
    "    dates = pd.date_range(date, date + timedelta(hours=5), freq='1H')\n",
    "    for date in dates:\n",
    "        result.append(df[(df.index.get_level_values(\"region_id\") == region) \n",
    "                & (df.index.get_level_values(\"pickup_datetime\") == date)].values[0][0])\n",
    "    return np.array(result)"
   ]
  },
  {
   "cell_type": "code",
   "execution_count": 8,
   "metadata": {
    "collapsed": true,
    "deletable": true,
    "editable": true
   },
   "outputs": [],
   "source": [
    "def draw_plot(data, key_name, value_name, label):\n",
    "    return hv.Curve(data, kdims=[key_name], vdims=[value_name], label=label)\n",
    "\n",
    "\n",
    "def draw_series(date, region):\n",
    "    true_values = get_true_data(data, region, date)\n",
    "    predicted_values = get_predicted_data(tmp2, region, date)\n",
    "    dates = pd.date_range(date, pd.to_datetime(date) + timedelta(hours=5), freq='1H')\n",
    "    #print predicted_values\n",
    "    #print true_values\n",
    "    tt = pd.DataFrame(data={'y': predicted_values, 'date': dates, 'real_y': true_values})\n",
    "    #%%opts Curve  [height=100 width=200 xaxis='bottom' show_grid=True tools=['hover']]\n",
    "    return draw_plot(tt, 'date', 'y', 'predicted') * draw_plot(tt, 'date', 'real_y', 'true')\n",
    "    #fig = plt.figure(figsize=(25,10))\n",
    "    #plt.plot(tt['date'], tt['y'])\n",
    "    #plt.plot(tt['date'], tt['real_y'])"
   ]
  },
  {
   "cell_type": "code",
   "execution_count": 9,
   "metadata": {
    "collapsed": false,
    "deletable": true,
    "editable": true
   },
   "outputs": [
    {
     "data": {
      "text/html": [
       "<div style='display: table; margin: 0 auto;'>\n",
       "\n",
       "    <div class=\"bk-root\">\n",
       "        <div class=\"bk-plotdiv\" id=\"eb6a30bf-d0f2-431f-8d8e-3b2e4736305f\"></div>\n",
       "    </div>\n",
       "<script type=\"text/javascript\">\n",
       "  (function(root) {\n",
       "    function embed_document(root) {\n",
       "      var docs_json = {\"f1037403-b88a-4f54-ac2b-596aa5fb3001\":{\"roots\":{\"references\":[{\"attributes\":{},\"id\":\"cea8fffa-6e92-4f32-8c91-6ffa806567a6\",\"type\":\"BasicTickFormatter\"},{\"attributes\":{\"overlay\":{\"id\":\"0a9d4202-0198-465a-9e0d-45343082d740\",\"type\":\"BoxAnnotation\"}},\"id\":\"989fb52d-8f62-4e53-88b3-1093b79b7aad\",\"type\":\"BoxZoomTool\"},{\"attributes\":{\"axis_label\":\"y\",\"formatter\":{\"id\":\"cea8fffa-6e92-4f32-8c91-6ffa806567a6\",\"type\":\"BasicTickFormatter\"},\"plot\":{\"id\":\"7fb42e26-92ff-4409-a196-9064b5a3f181\",\"subtype\":\"Figure\",\"type\":\"Plot\"},\"ticker\":{\"id\":\"07ea8eb8-2e08-4c61-a899-8cff19f30ea6\",\"type\":\"BasicTicker\"}},\"id\":\"ba3084ea-c370-4b32-9b31-079a1910f47c\",\"type\":\"LinearAxis\"},{\"attributes\":{\"months\":[0,2,4,6,8,10]},\"id\":\"e4e1f86b-da35-4347-b0ff-e43768b05fac\",\"type\":\"MonthsTicker\"},{\"attributes\":{},\"id\":\"ca45ea86-b3fe-4b07-92fb-c8d590850f31\",\"type\":\"WheelZoomTool\"},{\"attributes\":{\"months\":[0,1,2,3,4,5,6,7,8,9,10,11]},\"id\":\"ad2cf396-b5c9-49d1-9588-3a8edc8197b2\",\"type\":\"MonthsTicker\"},{\"attributes\":{\"label\":{\"value\":\"predicted\"},\"renderers\":[{\"id\":\"2f51fca3-95a6-4483-b0ab-874c0df21b7f\",\"type\":\"GlyphRenderer\"}]},\"id\":\"7527f38a-cb79-460a-85db-fa6be759e8df\",\"type\":\"LegendItem\"},{\"attributes\":{\"months\":[0,6]},\"id\":\"af3e7688-f3f1-479d-902a-31f8e42fbeef\",\"type\":\"MonthsTicker\"},{\"attributes\":{},\"id\":\"36d24ab9-e72b-44f6-a9c2-2544e8eb3da8\",\"type\":\"ResetTool\"},{\"attributes\":{},\"id\":\"f3190276-4653-4e73-9e3c-29ab15e9c909\",\"type\":\"PanTool\"},{\"attributes\":{\"dimension\":1,\"plot\":{\"id\":\"7fb42e26-92ff-4409-a196-9064b5a3f181\",\"subtype\":\"Figure\",\"type\":\"Plot\"},\"ticker\":{\"id\":\"07ea8eb8-2e08-4c61-a899-8cff19f30ea6\",\"type\":\"BasicTicker\"}},\"id\":\"ca95c5f6-098e-4d83-97b8-3025e229ccd6\",\"type\":\"Grid\"},{\"attributes\":{\"days\":[1,4,7,10,13,16,19,22,25,28]},\"id\":\"ac3e0328-7111-4d28-aa7f-2945d6dc06f9\",\"type\":\"DaysTicker\"},{\"attributes\":{\"background_fill_color\":{\"value\":\"white\"},\"below\":[{\"id\":\"aacbeb45-4d8e-424c-89e1-45bf48d41cec\",\"type\":\"DatetimeAxis\"}],\"left\":[{\"id\":\"ba3084ea-c370-4b32-9b31-079a1910f47c\",\"type\":\"LinearAxis\"}],\"min_border_bottom\":10,\"min_border_left\":10,\"min_border_right\":10,\"min_border_top\":10,\"plot_height\":400,\"plot_width\":800,\"renderers\":[{\"id\":\"aacbeb45-4d8e-424c-89e1-45bf48d41cec\",\"type\":\"DatetimeAxis\"},{\"id\":\"aca32258-89f2-4306-9f08-5d3e8beb6e42\",\"type\":\"Grid\"},{\"id\":\"ba3084ea-c370-4b32-9b31-079a1910f47c\",\"type\":\"LinearAxis\"},{\"id\":\"ca95c5f6-098e-4d83-97b8-3025e229ccd6\",\"type\":\"Grid\"},{\"id\":\"0a9d4202-0198-465a-9e0d-45343082d740\",\"type\":\"BoxAnnotation\"},{\"id\":\"5bd0f376-acf0-4650-9daa-874c055d9d80\",\"type\":\"Legend\"},{\"id\":\"2f51fca3-95a6-4483-b0ab-874c0df21b7f\",\"type\":\"GlyphRenderer\"},{\"id\":\"e336b0f0-9534-4be1-93d5-ee3c519bbb4e\",\"type\":\"GlyphRenderer\"}],\"title\":{\"id\":\"c706564a-802e-4c71-8cba-3f9989635eaa\",\"type\":\"Title\"},\"toolbar\":{\"id\":\"e760eb19-2843-4e32-a7b1-f8b013131963\",\"type\":\"Toolbar\"},\"x_range\":{\"id\":\"f8037691-1825-4fe2-a7c4-b303e2ab27ee\",\"type\":\"Range1d\"},\"x_scale\":{\"id\":\"dc039c6a-4438-4654-9fa8-93962d9aa0f6\",\"type\":\"LinearScale\"},\"y_range\":{\"id\":\"c04388a1-c485-406e-ad91-9702bf64ee96\",\"type\":\"Range1d\"},\"y_scale\":{\"id\":\"28e76e73-6a40-43a3-a02e-37175498e4e9\",\"type\":\"LinearScale\"}},\"id\":\"7fb42e26-92ff-4409-a196-9064b5a3f181\",\"subtype\":\"Figure\",\"type\":\"Plot\"},{\"attributes\":{\"callback\":null,\"end\":26.0,\"start\":1.0},\"id\":\"c04388a1-c485-406e-ad91-9702bf64ee96\",\"type\":\"Range1d\"},{\"attributes\":{\"months\":[0,4,8]},\"id\":\"d85e655d-a368-445b-9c43-fa96367d8567\",\"type\":\"MonthsTicker\"},{\"attributes\":{\"line_alpha\":{\"value\":0.2},\"line_color\":{\"value\":\"#30a2da\"},\"line_width\":{\"value\":2},\"x\":{\"field\":\"date\"},\"y\":{\"field\":\"y\"}},\"id\":\"ea80c491-b828-4322-919a-8e32190279f9\",\"type\":\"Line\"},{\"attributes\":{\"days\":[1,15]},\"id\":\"464366d5-0ae5-458c-a52e-824815558b4d\",\"type\":\"DaysTicker\"},{\"attributes\":{\"line_alpha\":{\"value\":0.1},\"line_color\":{\"value\":\"#30a2da\"},\"line_width\":{\"value\":2},\"x\":{\"field\":\"date\"},\"y\":{\"field\":\"y\"}},\"id\":\"c073a823-4bdd-404a-88d3-6d4ccf810f4d\",\"type\":\"Line\"},{\"attributes\":{\"base\":60,\"mantissas\":[1,2,5,10,15,20,30],\"max_interval\":1800000.0,\"min_interval\":1000.0,\"num_minor_ticks\":0},\"id\":\"b6fafcc6-c24e-4461-a838-5ddb3f92b3ae\",\"type\":\"AdaptiveTicker\"},{\"attributes\":{\"mantissas\":[1,2,5],\"max_interval\":500.0,\"num_minor_ticks\":0},\"id\":\"bda32b51-ae5b-4bc6-8bd9-903583e8127a\",\"type\":\"AdaptiveTicker\"},{\"attributes\":{\"days\":[1,8,15,22]},\"id\":\"b8e3defa-eb2f-4056-8161-9065a46f25e2\",\"type\":\"DaysTicker\"},{\"attributes\":{\"num_minor_ticks\":5,\"tickers\":[{\"id\":\"bda32b51-ae5b-4bc6-8bd9-903583e8127a\",\"type\":\"AdaptiveTicker\"},{\"id\":\"b6fafcc6-c24e-4461-a838-5ddb3f92b3ae\",\"type\":\"AdaptiveTicker\"},{\"id\":\"3501ee97-47c5-4a46-b1d0-cabbefc81f19\",\"type\":\"AdaptiveTicker\"},{\"id\":\"2a2c3e00-425d-4682-8ea4-4d5abf29f39f\",\"type\":\"DaysTicker\"},{\"id\":\"ac3e0328-7111-4d28-aa7f-2945d6dc06f9\",\"type\":\"DaysTicker\"},{\"id\":\"b8e3defa-eb2f-4056-8161-9065a46f25e2\",\"type\":\"DaysTicker\"},{\"id\":\"464366d5-0ae5-458c-a52e-824815558b4d\",\"type\":\"DaysTicker\"},{\"id\":\"ad2cf396-b5c9-49d1-9588-3a8edc8197b2\",\"type\":\"MonthsTicker\"},{\"id\":\"e4e1f86b-da35-4347-b0ff-e43768b05fac\",\"type\":\"MonthsTicker\"},{\"id\":\"d85e655d-a368-445b-9c43-fa96367d8567\",\"type\":\"MonthsTicker\"},{\"id\":\"af3e7688-f3f1-479d-902a-31f8e42fbeef\",\"type\":\"MonthsTicker\"},{\"id\":\"2bf643ba-7510-4155-84a6-dbe57cf2f6e3\",\"type\":\"YearsTicker\"}]},\"id\":\"2a11fafb-b9ad-4189-b6bc-e91735257e64\",\"type\":\"DatetimeTicker\"},{\"attributes\":{\"data_source\":{\"id\":\"219c7e3d-9f04-4344-84cb-53b77161d060\",\"type\":\"ColumnDataSource\"},\"glyph\":{\"id\":\"30c080e2-086a-4a4c-b267-90468d62cd8d\",\"type\":\"Line\"},\"hover_glyph\":null,\"muted_glyph\":{\"id\":\"85db3423-4cc0-4ba5-9c3a-7c649e95a63e\",\"type\":\"Line\"},\"nonselection_glyph\":{\"id\":\"2a1dc398-b9ca-4926-9596-5a527efb7a3e\",\"type\":\"Line\"},\"selection_glyph\":null,\"view\":{\"id\":\"2638069c-8419-4e89-9dfd-c5e85e692223\",\"type\":\"CDSView\"}},\"id\":\"e336b0f0-9534-4be1-93d5-ee3c519bbb4e\",\"type\":\"GlyphRenderer\"},{\"attributes\":{\"active_drag\":\"auto\",\"active_inspect\":\"auto\",\"active_scroll\":\"auto\",\"active_tap\":\"auto\",\"tools\":[{\"id\":\"2199fcfe-00bf-41e1-a5dc-7e06eef99566\",\"type\":\"HoverTool\"},{\"id\":\"58c08e80-7679-489b-9571-c6d47f53781a\",\"type\":\"HoverTool\"},{\"id\":\"d15cbcc8-bfdb-4281-93da-ec286df18d23\",\"type\":\"SaveTool\"},{\"id\":\"f3190276-4653-4e73-9e3c-29ab15e9c909\",\"type\":\"PanTool\"},{\"id\":\"ca45ea86-b3fe-4b07-92fb-c8d590850f31\",\"type\":\"WheelZoomTool\"},{\"id\":\"989fb52d-8f62-4e53-88b3-1093b79b7aad\",\"type\":\"BoxZoomTool\"},{\"id\":\"36d24ab9-e72b-44f6-a9c2-2544e8eb3da8\",\"type\":\"ResetTool\"}]},\"id\":\"e760eb19-2843-4e32-a7b1-f8b013131963\",\"type\":\"Toolbar\"},{\"attributes\":{},\"id\":\"28e76e73-6a40-43a3-a02e-37175498e4e9\",\"type\":\"LinearScale\"},{\"attributes\":{},\"id\":\"a411d23d-be7c-4efa-a2bd-f583703be66d\",\"type\":\"DatetimeTickFormatter\"},{\"attributes\":{\"axis_label\":\"date\",\"formatter\":{\"id\":\"a411d23d-be7c-4efa-a2bd-f583703be66d\",\"type\":\"DatetimeTickFormatter\"},\"plot\":{\"id\":\"7fb42e26-92ff-4409-a196-9064b5a3f181\",\"subtype\":\"Figure\",\"type\":\"Plot\"},\"ticker\":{\"id\":\"2a11fafb-b9ad-4189-b6bc-e91735257e64\",\"type\":\"DatetimeTicker\"}},\"id\":\"aacbeb45-4d8e-424c-89e1-45bf48d41cec\",\"type\":\"DatetimeAxis\"},{\"attributes\":{\"line_color\":{\"value\":\"#fc4f30\"},\"line_width\":{\"value\":2},\"x\":{\"field\":\"date\"},\"y\":{\"field\":\"real_y\"}},\"id\":\"30c080e2-086a-4a4c-b267-90468d62cd8d\",\"type\":\"Line\"},{\"attributes\":{\"data_source\":{\"id\":\"2a1d724a-7f62-4a4e-826f-4591ea7a990d\",\"type\":\"ColumnDataSource\"},\"glyph\":{\"id\":\"0aecc5b4-7141-45bf-8053-239f9b9ca297\",\"type\":\"Line\"},\"hover_glyph\":null,\"muted_glyph\":{\"id\":\"ea80c491-b828-4322-919a-8e32190279f9\",\"type\":\"Line\"},\"nonselection_glyph\":{\"id\":\"c073a823-4bdd-404a-88d3-6d4ccf810f4d\",\"type\":\"Line\"},\"selection_glyph\":null,\"view\":{\"id\":\"57935962-54c7-45de-93e8-99d892d7ed86\",\"type\":\"CDSView\"}},\"id\":\"2f51fca3-95a6-4483-b0ab-874c0df21b7f\",\"type\":\"GlyphRenderer\"},{\"attributes\":{\"label\":{\"value\":\"true\"},\"renderers\":[{\"id\":\"e336b0f0-9534-4be1-93d5-ee3c519bbb4e\",\"type\":\"GlyphRenderer\"}]},\"id\":\"3e4bb7f3-414a-4b97-86dc-c88ae175c352\",\"type\":\"LegendItem\"},{\"attributes\":{\"days\":[1,2,3,4,5,6,7,8,9,10,11,12,13,14,15,16,17,18,19,20,21,22,23,24,25,26,27,28,29,30,31]},\"id\":\"2a2c3e00-425d-4682-8ea4-4d5abf29f39f\",\"type\":\"DaysTicker\"},{\"attributes\":{\"callback\":null,\"renderers\":[{\"id\":\"2f51fca3-95a6-4483-b0ab-874c0df21b7f\",\"type\":\"GlyphRenderer\"}],\"tooltips\":[[\"date\",\"@{date_dt_strings}\"],[\"y\",\"@{y}\"]]},\"id\":\"2199fcfe-00bf-41e1-a5dc-7e06eef99566\",\"type\":\"HoverTool\"},{\"attributes\":{\"callback\":null,\"column_names\":[\"date\",\"real_y\",\"date_dt_strings\"],\"data\":{\"date\":{\"__ndarray__\":\"AADYuJBQdUIAAMAnlFB1QgAAqJaXUHVCAACQBZtQdUIAAHh0nlB1QgAAYOOhUHVC\",\"dtype\":\"float64\",\"shape\":[6]},\"date_dt_strings\":[\"2016-05-31 23:00:00\",\"2016-06-01 00:00:00\",\"2016-06-01 01:00:00\",\"2016-06-01 02:00:00\",\"2016-06-01 03:00:00\",\"2016-06-01 04:00:00\"],\"real_y\":[26,14,5,2,1,7]}},\"id\":\"219c7e3d-9f04-4344-84cb-53b77161d060\",\"type\":\"ColumnDataSource\"},{\"attributes\":{\"source\":{\"id\":\"219c7e3d-9f04-4344-84cb-53b77161d060\",\"type\":\"ColumnDataSource\"}},\"id\":\"2638069c-8419-4e89-9dfd-c5e85e692223\",\"type\":\"CDSView\"},{\"attributes\":{\"callback\":null,\"renderers\":[{\"id\":\"e336b0f0-9534-4be1-93d5-ee3c519bbb4e\",\"type\":\"GlyphRenderer\"}],\"tooltips\":[[\"date\",\"@{date_dt_strings}\"],[\"real_y\",\"@{real_y}\"]]},\"id\":\"58c08e80-7679-489b-9571-c6d47f53781a\",\"type\":\"HoverTool\"},{\"attributes\":{\"plot\":{\"id\":\"7fb42e26-92ff-4409-a196-9064b5a3f181\",\"subtype\":\"Figure\",\"type\":\"Plot\"},\"ticker\":{\"id\":\"2a11fafb-b9ad-4189-b6bc-e91735257e64\",\"type\":\"DatetimeTicker\"}},\"id\":\"aca32258-89f2-4306-9f08-5d3e8beb6e42\",\"type\":\"Grid\"},{\"attributes\":{\"bottom_units\":\"screen\",\"fill_alpha\":{\"value\":0.5},\"fill_color\":{\"value\":\"lightgrey\"},\"left_units\":\"screen\",\"level\":\"overlay\",\"line_alpha\":{\"value\":1.0},\"line_color\":{\"value\":\"black\"},\"line_dash\":[4,4],\"line_width\":{\"value\":2},\"plot\":null,\"render_mode\":\"css\",\"right_units\":\"screen\",\"top_units\":\"screen\"},\"id\":\"0a9d4202-0198-465a-9e0d-45343082d740\",\"type\":\"BoxAnnotation\"},{\"attributes\":{\"base\":24,\"mantissas\":[1,2,4,6,8,12],\"max_interval\":43200000.0,\"min_interval\":3600000.0,\"num_minor_ticks\":0},\"id\":\"3501ee97-47c5-4a46-b1d0-cabbefc81f19\",\"type\":\"AdaptiveTicker\"},{\"attributes\":{\"line_alpha\":{\"value\":0.2},\"line_color\":{\"value\":\"#fc4f30\"},\"line_width\":{\"value\":2},\"x\":{\"field\":\"date\"},\"y\":{\"field\":\"real_y\"}},\"id\":\"85db3423-4cc0-4ba5-9c3a-7c649e95a63e\",\"type\":\"Line\"},{\"attributes\":{},\"id\":\"d15cbcc8-bfdb-4281-93da-ec286df18d23\",\"type\":\"SaveTool\"},{\"attributes\":{\"click_policy\":\"mute\",\"items\":[{\"id\":\"7527f38a-cb79-460a-85db-fa6be759e8df\",\"type\":\"LegendItem\"},{\"id\":\"3e4bb7f3-414a-4b97-86dc-c88ae175c352\",\"type\":\"LegendItem\"}],\"plot\":{\"id\":\"7fb42e26-92ff-4409-a196-9064b5a3f181\",\"subtype\":\"Figure\",\"type\":\"Plot\"}},\"id\":\"5bd0f376-acf0-4650-9daa-874c055d9d80\",\"type\":\"Legend\"},{\"attributes\":{\"callback\":null,\"end\":1464753600000.0,\"start\":1464735600000.0},\"id\":\"f8037691-1825-4fe2-a7c4-b303e2ab27ee\",\"type\":\"Range1d\"},{\"attributes\":{\"line_alpha\":{\"value\":0.1},\"line_color\":{\"value\":\"#fc4f30\"},\"line_width\":{\"value\":2},\"x\":{\"field\":\"date\"},\"y\":{\"field\":\"real_y\"}},\"id\":\"2a1dc398-b9ca-4926-9596-5a527efb7a3e\",\"type\":\"Line\"},{\"attributes\":{},\"id\":\"dc039c6a-4438-4654-9fa8-93962d9aa0f6\",\"type\":\"LinearScale\"},{\"attributes\":{\"callback\":null,\"column_names\":[\"date\",\"y\",\"date_dt_strings\"],\"data\":{\"date\":{\"__ndarray__\":\"AADYuJBQdUIAAMAnlFB1QgAAqJaXUHVCAACQBZtQdUIAAHh0nlB1QgAAYOOhUHVC\",\"dtype\":\"float64\",\"shape\":[6]},\"date_dt_strings\":[\"2016-05-31 23:00:00\",\"2016-06-01 00:00:00\",\"2016-06-01 01:00:00\",\"2016-06-01 02:00:00\",\"2016-06-01 03:00:00\",\"2016-06-01 04:00:00\"],\"y\":{\"__ndarray__\":\"rzBVVVVVOEA/lnEcx/EwQAAAAAAAACVAjXscx3EcHUAAAAAAAAAYQB3hOI7jOCJA\",\"dtype\":\"float64\",\"shape\":[6]}}},\"id\":\"2a1d724a-7f62-4a4e-826f-4591ea7a990d\",\"type\":\"ColumnDataSource\"},{\"attributes\":{\"plot\":null,\"text\":\"\",\"text_color\":{\"value\":\"black\"},\"text_font_size\":{\"value\":\"12pt\"}},\"id\":\"c706564a-802e-4c71-8cba-3f9989635eaa\",\"type\":\"Title\"},{\"attributes\":{},\"id\":\"07ea8eb8-2e08-4c61-a899-8cff19f30ea6\",\"type\":\"BasicTicker\"},{\"attributes\":{\"line_color\":{\"value\":\"#30a2da\"},\"line_width\":{\"value\":2},\"x\":{\"field\":\"date\"},\"y\":{\"field\":\"y\"}},\"id\":\"0aecc5b4-7141-45bf-8053-239f9b9ca297\",\"type\":\"Line\"},{\"attributes\":{\"source\":{\"id\":\"2a1d724a-7f62-4a4e-826f-4591ea7a990d\",\"type\":\"ColumnDataSource\"}},\"id\":\"57935962-54c7-45de-93e8-99d892d7ed86\",\"type\":\"CDSView\"},{\"attributes\":{},\"id\":\"2bf643ba-7510-4155-84a6-dbe57cf2f6e3\",\"type\":\"YearsTicker\"}],\"root_ids\":[\"7fb42e26-92ff-4409-a196-9064b5a3f181\"]},\"title\":\"Bokeh Application\",\"version\":\"0.12.9\"}};\n",
       "      var render_items = [{\"docid\":\"f1037403-b88a-4f54-ac2b-596aa5fb3001\",\"elementid\":\"eb6a30bf-d0f2-431f-8d8e-3b2e4736305f\",\"modelid\":\"7fb42e26-92ff-4409-a196-9064b5a3f181\"}];\n",
       "  \n",
       "      root.Bokeh.embed.embed_items(docs_json, render_items);\n",
       "    }\n",
       "  \n",
       "    if (root.Bokeh !== undefined) {\n",
       "      embed_document(root);\n",
       "    } else {\n",
       "      var attempts = 0;\n",
       "      var timer = setInterval(function(root) {\n",
       "        if (root.Bokeh !== undefined) {\n",
       "          embed_document(root);\n",
       "          clearInterval(timer);\n",
       "        }\n",
       "        attempts++;\n",
       "        if (attempts > 100) {\n",
       "          console.log(\"Bokeh: ERROR: Unable to embed document because BokehJS library is missing\")\n",
       "          clearInterval(timer);\n",
       "        }\n",
       "      }, 10, root)\n",
       "    }\n",
       "  })(window);\n",
       "</script></div>"
      ],
      "text/plain": [
       ":Overlay\n",
       "   .Curve.Predicted :Curve   [date]   (y)\n",
       "   .Curve.True      :Curve   [date]   (real_y)"
      ]
     },
     "execution_count": 9,
     "metadata": {},
     "output_type": "execute_result"
    }
   ],
   "source": [
    "%output size=400\n",
    "%opts Curve  [height=100 width=200 xaxis='bottom' show_grid=True tools=['hover']]\n",
    "draw_series(\"2016-05-31 23:00:00\", 1075)"
   ]
  },
  {
   "cell_type": "code",
   "execution_count": 10,
   "metadata": {
    "collapsed": true,
    "deletable": true,
    "editable": true
   },
   "outputs": [],
   "source": [
    "class TaxiPredictionExplorer(hv.streams.Stream):\n",
    "    \n",
    "    date = param.ObjectSelector(default=\"2016-05-31 23:00:00\",\n",
    "                                objects=pd.date_range(\"2016-05-31 23:00:00\", \"2016-06-30 17:00:00\", freq='1h').astype(str))\n",
    "    region = param.ObjectSelector(default=regions[0], objects=regions)\n",
    "    \n",
    "    def view(self):\n",
    "        dmap = hv.DynamicMap(draw_series, kdims=[], streams=[self])\n",
    "        dmap.redim.values(date=pd.date_range(self.date, pd.to_datetime(self.date) + timedelta(hours=6), freq='1h').astype(str))\n",
    "        dmap.reset\n",
    "        return dmap"
   ]
  },
  {
   "cell_type": "code",
   "execution_count": 11,
   "metadata": {
    "collapsed": false,
    "deletable": true,
    "editable": true
   },
   "outputs": [
    {
     "data": {
      "application/javascript": [
       "\n",
       "define('activehtml', [\"jupyter-js-widgets\"], function(widgets) {\n",
       "    var ActiveHTMLView = widgets.HTMLView.extend({\n",
       "        update: function() {\n",
       "            $(this.el).html(this.model.get('value'));\n",
       "        }\n",
       "    });\n",
       "    return {\n",
       "        ActiveHTMLView: ActiveHTMLView\n",
       "    };\n",
       "});\n"
      ],
      "text/plain": [
       "<IPython.core.display.Javascript object>"
      ]
     },
     "metadata": {},
     "output_type": "display_data"
    },
    {
     "data": {
      "application/vnd.jupyter.widget-view+json": {
       "model_id": "5358c19f7d8f435794b81a7bf038c4e5"
      }
     },
     "metadata": {},
     "output_type": "display_data"
    },
    {
     "data": {
      "text/html": [
       "<div style='display: table; margin: 0 auto;'>\n",
       "\n",
       "    <div class=\"bk-root\">\n",
       "        <div class=\"bk-plotdiv\" id=\"7a54fd44-75b8-4605-9bd5-5cb4ee37aaf8\"></div>\n",
       "    </div>\n",
       "<script type=\"text/javascript\">\n",
       "  (function(root) {\n",
       "    function embed_document(root) {\n",
       "      var docs_json = {\"6c969e32-1427-48f8-967f-bac45226ae94\":{\"roots\":{\"references\":[{\"attributes\":{},\"id\":\"5fdd679f-3076-4859-a547-8512a595fe2e\",\"type\":\"LinearScale\"},{\"attributes\":{\"label\":{\"value\":\"predicted\"},\"renderers\":[{\"id\":\"7a4e949f-4de5-491e-b029-5d3be6f60e42\",\"type\":\"GlyphRenderer\"}]},\"id\":\"fa3854c1-0f43-4e0a-bd70-1df54b322e16\",\"type\":\"LegendItem\"},{\"attributes\":{},\"id\":\"af473f3e-c5d6-4cff-9866-8888f3c3fd1d\",\"type\":\"DatetimeTickFormatter\"},{\"attributes\":{\"line_color\":{\"value\":\"#30a2da\"},\"line_width\":{\"value\":2},\"x\":{\"field\":\"date\"},\"y\":{\"field\":\"y\"}},\"id\":\"7703602d-6cfb-4abf-b7b5-591cd08ac08e\",\"type\":\"Line\"},{\"attributes\":{\"days\":[1,4,7,10,13,16,19,22,25,28]},\"id\":\"3c378a6c-a8cf-4724-b817-cb89440d367c\",\"type\":\"DaysTicker\"},{\"attributes\":{\"callback\":null,\"column_names\":[\"date\",\"real_y\",\"date_dt_strings\"],\"data\":{\"date\":{\"__ndarray__\":\"AADYuJBQdUIAAMAnlFB1QgAAqJaXUHVCAACQBZtQdUIAAHh0nlB1QgAAYOOhUHVC\",\"dtype\":\"float64\",\"shape\":[6]},\"date_dt_strings\":[\"2016-05-31 23:00:00\",\"2016-06-01 00:00:00\",\"2016-06-01 01:00:00\",\"2016-06-01 02:00:00\",\"2016-06-01 03:00:00\",\"2016-06-01 04:00:00\"],\"real_y\":[26,14,5,2,1,7]}},\"id\":\"ef01575c-8e30-4f1a-9264-cbfa7c541c25\",\"type\":\"ColumnDataSource\"},{\"attributes\":{\"days\":[1,2,3,4,5,6,7,8,9,10,11,12,13,14,15,16,17,18,19,20,21,22,23,24,25,26,27,28,29,30,31]},\"id\":\"2bd7d5d4-e210-4429-96c4-8e2b7ee20ea7\",\"type\":\"DaysTicker\"},{\"attributes\":{\"callback\":null,\"renderers\":[{\"id\":\"7a4e949f-4de5-491e-b029-5d3be6f60e42\",\"type\":\"GlyphRenderer\"}],\"tooltips\":[[\"date\",\"@{date_dt_strings}\"],[\"y\",\"@{y}\"]]},\"id\":\"0f5daad8-195f-48bd-a351-dd75acea6d7b\",\"type\":\"HoverTool\"},{\"attributes\":{\"axis_label\":\"y\",\"formatter\":{\"id\":\"4201f80c-19f9-45b3-b15e-bdcdcf8f4302\",\"type\":\"BasicTickFormatter\"},\"plot\":{\"id\":\"3369c8fd-c241-418b-bd7c-fecf3ee0f3ee\",\"subtype\":\"Figure\",\"type\":\"Plot\"},\"ticker\":{\"id\":\"c3568caa-509d-49a7-86dd-343959cfd820\",\"type\":\"BasicTicker\"}},\"id\":\"e3545c89-e8dc-47d7-b394-19938459ac30\",\"type\":\"LinearAxis\"},{\"attributes\":{\"plot\":{\"id\":\"3369c8fd-c241-418b-bd7c-fecf3ee0f3ee\",\"subtype\":\"Figure\",\"type\":\"Plot\"},\"ticker\":{\"id\":\"dc8644e6-ef31-42a8-a904-6ebbe29a57ef\",\"type\":\"DatetimeTicker\"}},\"id\":\"4a68dd9b-be45-41a4-980f-eac0ada3fe35\",\"type\":\"Grid\"},{\"attributes\":{\"source\":{\"id\":\"ef01575c-8e30-4f1a-9264-cbfa7c541c25\",\"type\":\"ColumnDataSource\"}},\"id\":\"2bf55308-a0c5-4e4d-99d9-9e7516142e8d\",\"type\":\"CDSView\"},{\"attributes\":{},\"id\":\"9384c9dd-4442-4909-b67e-0a9b0d6f837b\",\"type\":\"ResetTool\"},{\"attributes\":{\"mantissas\":[1,2,5],\"max_interval\":500.0,\"num_minor_ticks\":0},\"id\":\"c7420009-cc52-4fe6-9234-ec39e698034e\",\"type\":\"AdaptiveTicker\"},{\"attributes\":{\"line_color\":{\"value\":\"#fc4f30\"},\"line_width\":{\"value\":2},\"x\":{\"field\":\"date\"},\"y\":{\"field\":\"real_y\"}},\"id\":\"5e56692f-6bc8-45fe-98a2-83c84f947c39\",\"type\":\"Line\"},{\"attributes\":{\"days\":[1,15]},\"id\":\"dae2022e-83b0-4302-ba44-2439328177a6\",\"type\":\"DaysTicker\"},{\"attributes\":{\"callback\":null,\"end\":26.0,\"start\":1.0},\"id\":\"474336d5-25d7-4ff8-9dd8-72e124cc27bd\",\"type\":\"Range1d\"},{\"attributes\":{\"label\":{\"value\":\"true\"},\"renderers\":[{\"id\":\"6673b0e7-02d7-4e11-b92e-29e6bfb070a2\",\"type\":\"GlyphRenderer\"}]},\"id\":\"6f0da638-06b5-4adc-8cbd-22a71a32592d\",\"type\":\"LegendItem\"},{\"attributes\":{\"callback\":null,\"renderers\":[{\"id\":\"6673b0e7-02d7-4e11-b92e-29e6bfb070a2\",\"type\":\"GlyphRenderer\"}],\"tooltips\":[[\"date\",\"@{date_dt_strings}\"],[\"real_y\",\"@{real_y}\"]]},\"id\":\"3b9dd0d8-79d5-4786-a5aa-73ab00835ac3\",\"type\":\"HoverTool\"},{\"attributes\":{\"click_policy\":\"mute\",\"items\":[{\"id\":\"fa3854c1-0f43-4e0a-bd70-1df54b322e16\",\"type\":\"LegendItem\"},{\"id\":\"6f0da638-06b5-4adc-8cbd-22a71a32592d\",\"type\":\"LegendItem\"}],\"plot\":{\"id\":\"3369c8fd-c241-418b-bd7c-fecf3ee0f3ee\",\"subtype\":\"Figure\",\"type\":\"Plot\"}},\"id\":\"c2bb3bdb-deb1-438b-bb88-8973f2b968ac\",\"type\":\"Legend\"},{\"attributes\":{\"plot\":null,\"text\":\"\",\"text_color\":{\"value\":\"black\"},\"text_font_size\":{\"value\":\"12pt\"}},\"id\":\"dde7feca-a633-411e-847b-6716e88b84a3\",\"type\":\"Title\"},{\"attributes\":{\"months\":[0,2,4,6,8,10]},\"id\":\"b62d37dd-0df5-47d9-97ec-ba368ef35005\",\"type\":\"MonthsTicker\"},{\"attributes\":{},\"id\":\"39b0362a-075d-4b23-b7b9-2106bef0d628\",\"type\":\"PanTool\"},{\"attributes\":{\"line_alpha\":{\"value\":0.1},\"line_color\":{\"value\":\"#fc4f30\"},\"line_width\":{\"value\":2},\"x\":{\"field\":\"date\"},\"y\":{\"field\":\"real_y\"}},\"id\":\"a078863e-15fc-4e5f-9d98-3975c0cc90ed\",\"type\":\"Line\"},{\"attributes\":{},\"id\":\"da922879-8aff-46b9-834a-d4a7d4ccb0fa\",\"type\":\"LinearScale\"},{\"attributes\":{\"line_alpha\":{\"value\":0.1},\"line_color\":{\"value\":\"#30a2da\"},\"line_width\":{\"value\":2},\"x\":{\"field\":\"date\"},\"y\":{\"field\":\"y\"}},\"id\":\"edb18a53-4a98-4e02-a8ed-24832bd511bb\",\"type\":\"Line\"},{\"attributes\":{\"data_source\":{\"id\":\"3a76edd6-5d83-4542-b2e1-c7cdf8e76de1\",\"type\":\"ColumnDataSource\"},\"glyph\":{\"id\":\"7703602d-6cfb-4abf-b7b5-591cd08ac08e\",\"type\":\"Line\"},\"hover_glyph\":null,\"muted_glyph\":{\"id\":\"d59a352a-bcc2-4fd9-97ca-d4227e07f472\",\"type\":\"Line\"},\"nonselection_glyph\":{\"id\":\"edb18a53-4a98-4e02-a8ed-24832bd511bb\",\"type\":\"Line\"},\"selection_glyph\":null,\"view\":{\"id\":\"f263120a-fe98-4810-b010-d2a4e0ca9a0f\",\"type\":\"CDSView\"}},\"id\":\"7a4e949f-4de5-491e-b029-5d3be6f60e42\",\"type\":\"GlyphRenderer\"},{\"attributes\":{\"months\":[0,1,2,3,4,5,6,7,8,9,10,11]},\"id\":\"c3d47eff-96b1-4d8d-b6ea-41e7fac09eae\",\"type\":\"MonthsTicker\"},{\"attributes\":{\"background_fill_color\":{\"value\":\"white\"},\"below\":[{\"id\":\"1f0cbf36-5a05-4368-961b-2d41bc575e43\",\"type\":\"DatetimeAxis\"}],\"left\":[{\"id\":\"e3545c89-e8dc-47d7-b394-19938459ac30\",\"type\":\"LinearAxis\"}],\"min_border_bottom\":10,\"min_border_left\":10,\"min_border_right\":10,\"min_border_top\":10,\"plot_height\":400,\"plot_width\":800,\"renderers\":[{\"id\":\"1f0cbf36-5a05-4368-961b-2d41bc575e43\",\"type\":\"DatetimeAxis\"},{\"id\":\"4a68dd9b-be45-41a4-980f-eac0ada3fe35\",\"type\":\"Grid\"},{\"id\":\"e3545c89-e8dc-47d7-b394-19938459ac30\",\"type\":\"LinearAxis\"},{\"id\":\"2ba11e9f-b071-4494-adb7-73243a8d40f5\",\"type\":\"Grid\"},{\"id\":\"bd73bdf9-1de3-48c7-b32f-8737f6de1d69\",\"type\":\"BoxAnnotation\"},{\"id\":\"c2bb3bdb-deb1-438b-bb88-8973f2b968ac\",\"type\":\"Legend\"},{\"id\":\"7a4e949f-4de5-491e-b029-5d3be6f60e42\",\"type\":\"GlyphRenderer\"},{\"id\":\"6673b0e7-02d7-4e11-b92e-29e6bfb070a2\",\"type\":\"GlyphRenderer\"}],\"title\":{\"id\":\"dde7feca-a633-411e-847b-6716e88b84a3\",\"type\":\"Title\"},\"toolbar\":{\"id\":\"59213c9a-d8d5-4325-bde9-a023a7ec0661\",\"type\":\"Toolbar\"},\"x_range\":{\"id\":\"5c78105d-36e0-4e4b-8b10-68e7a91c988f\",\"type\":\"Range1d\"},\"x_scale\":{\"id\":\"da922879-8aff-46b9-834a-d4a7d4ccb0fa\",\"type\":\"LinearScale\"},\"y_range\":{\"id\":\"474336d5-25d7-4ff8-9dd8-72e124cc27bd\",\"type\":\"Range1d\"},\"y_scale\":{\"id\":\"5fdd679f-3076-4859-a547-8512a595fe2e\",\"type\":\"LinearScale\"}},\"id\":\"3369c8fd-c241-418b-bd7c-fecf3ee0f3ee\",\"subtype\":\"Figure\",\"type\":\"Plot\"},{\"attributes\":{\"months\":[0,6]},\"id\":\"2eeb391e-cfa2-464f-bc92-e1af6a934f7e\",\"type\":\"MonthsTicker\"},{\"attributes\":{\"source\":{\"id\":\"3a76edd6-5d83-4542-b2e1-c7cdf8e76de1\",\"type\":\"ColumnDataSource\"}},\"id\":\"f263120a-fe98-4810-b010-d2a4e0ca9a0f\",\"type\":\"CDSView\"},{\"attributes\":{\"days\":[1,8,15,22]},\"id\":\"2e79f4ba-696f-4d6f-8b84-88224153a13a\",\"type\":\"DaysTicker\"},{\"attributes\":{\"callback\":null,\"column_names\":[\"date\",\"y\",\"date_dt_strings\"],\"data\":{\"date\":{\"__ndarray__\":\"AADYuJBQdUIAAMAnlFB1QgAAqJaXUHVCAACQBZtQdUIAAHh0nlB1QgAAYOOhUHVC\",\"dtype\":\"float64\",\"shape\":[6]},\"date_dt_strings\":[\"2016-05-31 23:00:00\",\"2016-06-01 00:00:00\",\"2016-06-01 01:00:00\",\"2016-06-01 02:00:00\",\"2016-06-01 03:00:00\",\"2016-06-01 04:00:00\"],\"y\":{\"__ndarray__\":\"rzBVVVVVOEA/lnEcx/EwQAAAAAAAACVAjXscx3EcHUAAAAAAAAAYQB3hOI7jOCJA\",\"dtype\":\"float64\",\"shape\":[6]}}},\"id\":\"3a76edd6-5d83-4542-b2e1-c7cdf8e76de1\",\"type\":\"ColumnDataSource\"},{\"attributes\":{\"dimension\":1,\"plot\":{\"id\":\"3369c8fd-c241-418b-bd7c-fecf3ee0f3ee\",\"subtype\":\"Figure\",\"type\":\"Plot\"},\"ticker\":{\"id\":\"c3568caa-509d-49a7-86dd-343959cfd820\",\"type\":\"BasicTicker\"}},\"id\":\"2ba11e9f-b071-4494-adb7-73243a8d40f5\",\"type\":\"Grid\"},{\"attributes\":{\"line_alpha\":{\"value\":0.2},\"line_color\":{\"value\":\"#30a2da\"},\"line_width\":{\"value\":2},\"x\":{\"field\":\"date\"},\"y\":{\"field\":\"y\"}},\"id\":\"d59a352a-bcc2-4fd9-97ca-d4227e07f472\",\"type\":\"Line\"},{\"attributes\":{},\"id\":\"a4fd57be-4b6a-4588-9a2a-97010fde71a8\",\"type\":\"YearsTicker\"},{\"attributes\":{},\"id\":\"4201f80c-19f9-45b3-b15e-bdcdcf8f4302\",\"type\":\"BasicTickFormatter\"},{\"attributes\":{\"axis_label\":\"date\",\"formatter\":{\"id\":\"af473f3e-c5d6-4cff-9866-8888f3c3fd1d\",\"type\":\"DatetimeTickFormatter\"},\"plot\":{\"id\":\"3369c8fd-c241-418b-bd7c-fecf3ee0f3ee\",\"subtype\":\"Figure\",\"type\":\"Plot\"},\"ticker\":{\"id\":\"dc8644e6-ef31-42a8-a904-6ebbe29a57ef\",\"type\":\"DatetimeTicker\"}},\"id\":\"1f0cbf36-5a05-4368-961b-2d41bc575e43\",\"type\":\"DatetimeAxis\"},{\"attributes\":{\"overlay\":{\"id\":\"bd73bdf9-1de3-48c7-b32f-8737f6de1d69\",\"type\":\"BoxAnnotation\"}},\"id\":\"0e9bfed0-95e1-4bb0-bac4-d83d207ca51f\",\"type\":\"BoxZoomTool\"},{\"attributes\":{\"line_alpha\":{\"value\":0.2},\"line_color\":{\"value\":\"#fc4f30\"},\"line_width\":{\"value\":2},\"x\":{\"field\":\"date\"},\"y\":{\"field\":\"real_y\"}},\"id\":\"3a0b0264-a057-4285-b079-c5fdabcb71e1\",\"type\":\"Line\"},{\"attributes\":{\"bottom_units\":\"screen\",\"fill_alpha\":{\"value\":0.5},\"fill_color\":{\"value\":\"lightgrey\"},\"left_units\":\"screen\",\"level\":\"overlay\",\"line_alpha\":{\"value\":1.0},\"line_color\":{\"value\":\"black\"},\"line_dash\":[4,4],\"line_width\":{\"value\":2},\"plot\":null,\"render_mode\":\"css\",\"right_units\":\"screen\",\"top_units\":\"screen\"},\"id\":\"bd73bdf9-1de3-48c7-b32f-8737f6de1d69\",\"type\":\"BoxAnnotation\"},{\"attributes\":{\"callback\":null,\"end\":1464753600000.0,\"start\":1464735600000.0},\"id\":\"5c78105d-36e0-4e4b-8b10-68e7a91c988f\",\"type\":\"Range1d\"},{\"attributes\":{\"num_minor_ticks\":5,\"tickers\":[{\"id\":\"c7420009-cc52-4fe6-9234-ec39e698034e\",\"type\":\"AdaptiveTicker\"},{\"id\":\"f7fa02f1-6feb-4f7f-b0da-e4fe29b71fcb\",\"type\":\"AdaptiveTicker\"},{\"id\":\"09fb1c1a-d990-4d17-a5f5-e8097a31bd3d\",\"type\":\"AdaptiveTicker\"},{\"id\":\"2bd7d5d4-e210-4429-96c4-8e2b7ee20ea7\",\"type\":\"DaysTicker\"},{\"id\":\"3c378a6c-a8cf-4724-b817-cb89440d367c\",\"type\":\"DaysTicker\"},{\"id\":\"2e79f4ba-696f-4d6f-8b84-88224153a13a\",\"type\":\"DaysTicker\"},{\"id\":\"dae2022e-83b0-4302-ba44-2439328177a6\",\"type\":\"DaysTicker\"},{\"id\":\"c3d47eff-96b1-4d8d-b6ea-41e7fac09eae\",\"type\":\"MonthsTicker\"},{\"id\":\"b62d37dd-0df5-47d9-97ec-ba368ef35005\",\"type\":\"MonthsTicker\"},{\"id\":\"a443cea8-a587-4271-8a9b-524d8d25231f\",\"type\":\"MonthsTicker\"},{\"id\":\"2eeb391e-cfa2-464f-bc92-e1af6a934f7e\",\"type\":\"MonthsTicker\"},{\"id\":\"a4fd57be-4b6a-4588-9a2a-97010fde71a8\",\"type\":\"YearsTicker\"}]},\"id\":\"dc8644e6-ef31-42a8-a904-6ebbe29a57ef\",\"type\":\"DatetimeTicker\"},{\"attributes\":{},\"id\":\"f7fb41a2-6197-4ff6-8d4d-daf8d96a19fc\",\"type\":\"SaveTool\"},{\"attributes\":{\"active_drag\":\"auto\",\"active_inspect\":\"auto\",\"active_scroll\":\"auto\",\"active_tap\":\"auto\",\"tools\":[{\"id\":\"0f5daad8-195f-48bd-a351-dd75acea6d7b\",\"type\":\"HoverTool\"},{\"id\":\"3b9dd0d8-79d5-4786-a5aa-73ab00835ac3\",\"type\":\"HoverTool\"},{\"id\":\"f7fb41a2-6197-4ff6-8d4d-daf8d96a19fc\",\"type\":\"SaveTool\"},{\"id\":\"39b0362a-075d-4b23-b7b9-2106bef0d628\",\"type\":\"PanTool\"},{\"id\":\"0ad5c053-0057-4d29-8830-79af1b0c3df3\",\"type\":\"WheelZoomTool\"},{\"id\":\"0e9bfed0-95e1-4bb0-bac4-d83d207ca51f\",\"type\":\"BoxZoomTool\"},{\"id\":\"9384c9dd-4442-4909-b67e-0a9b0d6f837b\",\"type\":\"ResetTool\"}]},\"id\":\"59213c9a-d8d5-4325-bde9-a023a7ec0661\",\"type\":\"Toolbar\"},{\"attributes\":{},\"id\":\"c3568caa-509d-49a7-86dd-343959cfd820\",\"type\":\"BasicTicker\"},{\"attributes\":{\"months\":[0,4,8]},\"id\":\"a443cea8-a587-4271-8a9b-524d8d25231f\",\"type\":\"MonthsTicker\"},{\"attributes\":{},\"id\":\"0ad5c053-0057-4d29-8830-79af1b0c3df3\",\"type\":\"WheelZoomTool\"},{\"attributes\":{\"base\":24,\"mantissas\":[1,2,4,6,8,12],\"max_interval\":43200000.0,\"min_interval\":3600000.0,\"num_minor_ticks\":0},\"id\":\"09fb1c1a-d990-4d17-a5f5-e8097a31bd3d\",\"type\":\"AdaptiveTicker\"},{\"attributes\":{\"base\":60,\"mantissas\":[1,2,5,10,15,20,30],\"max_interval\":1800000.0,\"min_interval\":1000.0,\"num_minor_ticks\":0},\"id\":\"f7fa02f1-6feb-4f7f-b0da-e4fe29b71fcb\",\"type\":\"AdaptiveTicker\"},{\"attributes\":{\"data_source\":{\"id\":\"ef01575c-8e30-4f1a-9264-cbfa7c541c25\",\"type\":\"ColumnDataSource\"},\"glyph\":{\"id\":\"5e56692f-6bc8-45fe-98a2-83c84f947c39\",\"type\":\"Line\"},\"hover_glyph\":null,\"muted_glyph\":{\"id\":\"3a0b0264-a057-4285-b079-c5fdabcb71e1\",\"type\":\"Line\"},\"nonselection_glyph\":{\"id\":\"a078863e-15fc-4e5f-9d98-3975c0cc90ed\",\"type\":\"Line\"},\"selection_glyph\":null,\"view\":{\"id\":\"2bf55308-a0c5-4e4d-99d9-9e7516142e8d\",\"type\":\"CDSView\"}},\"id\":\"6673b0e7-02d7-4e11-b92e-29e6bfb070a2\",\"type\":\"GlyphRenderer\"}],\"root_ids\":[\"3369c8fd-c241-418b-bd7c-fecf3ee0f3ee\"]},\"title\":\"Bokeh Application\",\"version\":\"0.12.9\"}};\n",
       "      var render_items = [{\"docid\":\"6c969e32-1427-48f8-967f-bac45226ae94\",\"elementid\":\"7a54fd44-75b8-4605-9bd5-5cb4ee37aaf8\",\"modelid\":\"3369c8fd-c241-418b-bd7c-fecf3ee0f3ee\",\"notebook_comms_target\":\"33202a619fcd43edb9ef19f0c3ab9dd5\"}];\n",
       "  \n",
       "      root.Bokeh.embed.embed_items(docs_json, render_items);\n",
       "    }\n",
       "  \n",
       "    if (root.Bokeh !== undefined) {\n",
       "      embed_document(root);\n",
       "    } else {\n",
       "      var attempts = 0;\n",
       "      var timer = setInterval(function(root) {\n",
       "        if (root.Bokeh !== undefined) {\n",
       "          embed_document(root);\n",
       "          clearInterval(timer);\n",
       "        }\n",
       "        attempts++;\n",
       "        if (attempts > 100) {\n",
       "          console.log(\"Bokeh: ERROR: Unable to embed document because BokehJS library is missing\")\n",
       "          clearInterval(timer);\n",
       "        }\n",
       "      }, 10, root)\n",
       "    }\n",
       "  })(window);\n",
       "</script></div>"
      ],
      "text/plain": [
       ":DynamicMap   []"
      ]
     },
     "execution_count": 11,
     "metadata": {},
     "output_type": "execute_result"
    }
   ],
   "source": [
    "%opts Curve [width=200 height=100]\n",
    "explorer = TaxiPredictionExplorer()\n",
    "paramnb.Widgets(explorer, on_init=True)\n",
    "explorer.view()"
   ]
  },
  {
   "cell_type": "code",
   "execution_count": null,
   "metadata": {
    "collapsed": true,
    "deletable": true,
    "editable": true
   },
   "outputs": [],
   "source": []
  }
 ],
 "metadata": {
  "kernelspec": {
   "display_name": "Python [conda env:py34_ml]",
   "language": "python",
   "name": "conda-env-py34_ml-py"
  },
  "language_info": {
   "codemirror_mode": {
    "name": "ipython",
    "version": 3
   },
   "file_extension": ".py",
   "mimetype": "text/x-python",
   "name": "python",
   "nbconvert_exporter": "python",
   "pygments_lexer": "ipython3",
   "version": "3.4.5"
  },
  "widgets": {
   "application/vnd.jupyter.widget-state+json": {
    "state": {
     "0aa94c367e8149889f57aafb89a80d10": {
      "model_module_version": "^2.1.4",
      "state": {
       "value": "<table style=\"width:100%\">\n                <thead>\n                    <tr>\n                        <th colspan=\"2\">\n                        Could not create model:\n                        </th>\n                    </tr>\n                </thead>\n                <tbody>\n                    <tr>\n                        <td>Model name</td>\n                        <td> undefined </td>\n                    </tr>\n                    <tr>\n                        <td>Model module</td>\n                        <td> undefined </td>\n                    </tr>\n                    <tr>\n                        <td>Model module version</td>\n                        <td> undefined </td>\n                    </tr>\n                <tbody>\n                <tfoot>\n                    <tr>\n                        <th colspan=\"2\">\n                        Class undefined not found in registry \n                        </th>\n                    </tr>\n                </tfoot>\n                </table>"
      }
     },
     "2ae5809c0fd44786904fe6cc3c038683": {
      "model_module_version": "^2.1.4",
      "state": {
       "value": "<table style=\"width:100%\">\n                <thead>\n                    <tr>\n                        <th colspan=\"2\">\n                        Could not create model:\n                        </th>\n                    </tr>\n                </thead>\n                <tbody>\n                    <tr>\n                        <td>Model name</td>\n                        <td> undefined </td>\n                    </tr>\n                    <tr>\n                        <td>Model module</td>\n                        <td> undefined </td>\n                    </tr>\n                    <tr>\n                        <td>Model module version</td>\n                        <td> undefined </td>\n                    </tr>\n                <tbody>\n                <tfoot>\n                    <tr>\n                        <th colspan=\"2\">\n                        Class undefined not found in registry \n                        </th>\n                    </tr>\n                </tfoot>\n                </table>"
      }
     },
     "3558e680cd024f70bd5357e51e14a225": {
      "model_module_version": "^2.1.4",
      "state": {
       "value": "<table style=\"width:100%\">\n                <thead>\n                    <tr>\n                        <th colspan=\"2\">\n                        Could not create model:\n                        </th>\n                    </tr>\n                </thead>\n                <tbody>\n                    <tr>\n                        <td>Model name</td>\n                        <td> undefined </td>\n                    </tr>\n                    <tr>\n                        <td>Model module</td>\n                        <td> undefined </td>\n                    </tr>\n                    <tr>\n                        <td>Model module version</td>\n                        <td> undefined </td>\n                    </tr>\n                <tbody>\n                <tfoot>\n                    <tr>\n                        <th colspan=\"2\">\n                        Class undefined not found in registry \n                        </th>\n                    </tr>\n                </tfoot>\n                </table>"
      }
     },
     "42e950daa53243eba6675df033cd95f6": {
      "model_module_version": "^2.1.4",
      "state": {
       "value": "<table style=\"width:100%\">\n                <thead>\n                    <tr>\n                        <th colspan=\"2\">\n                        Could not create model:\n                        </th>\n                    </tr>\n                </thead>\n                <tbody>\n                    <tr>\n                        <td>Model name</td>\n                        <td> undefined </td>\n                    </tr>\n                    <tr>\n                        <td>Model module</td>\n                        <td> undefined </td>\n                    </tr>\n                    <tr>\n                        <td>Model module version</td>\n                        <td> undefined </td>\n                    </tr>\n                <tbody>\n                <tfoot>\n                    <tr>\n                        <th colspan=\"2\">\n                        Class undefined not found in registry \n                        </th>\n                    </tr>\n                </tfoot>\n                </table>"
      }
     },
     "4c48f8cb6d64442d9cac5642cfbe6d53": {
      "model_module_version": "^2.1.4",
      "state": {
       "value": "<table style=\"width:100%\">\n                <thead>\n                    <tr>\n                        <th colspan=\"2\">\n                        Could not create model:\n                        </th>\n                    </tr>\n                </thead>\n                <tbody>\n                    <tr>\n                        <td>Model name</td>\n                        <td> undefined </td>\n                    </tr>\n                    <tr>\n                        <td>Model module</td>\n                        <td> undefined </td>\n                    </tr>\n                    <tr>\n                        <td>Model module version</td>\n                        <td> undefined </td>\n                    </tr>\n                <tbody>\n                <tfoot>\n                    <tr>\n                        <th colspan=\"2\">\n                        Class undefined not found in registry \n                        </th>\n                    </tr>\n                </tfoot>\n                </table>"
      }
     },
     "4d83b10b2f254f95ada91f343a5f727c": {
      "model_module_version": "^2.1.4",
      "state": {
       "value": "<table style=\"width:100%\">\n                <thead>\n                    <tr>\n                        <th colspan=\"2\">\n                        Could not create model:\n                        </th>\n                    </tr>\n                </thead>\n                <tbody>\n                    <tr>\n                        <td>Model name</td>\n                        <td> undefined </td>\n                    </tr>\n                    <tr>\n                        <td>Model module</td>\n                        <td> undefined </td>\n                    </tr>\n                    <tr>\n                        <td>Model module version</td>\n                        <td> undefined </td>\n                    </tr>\n                <tbody>\n                <tfoot>\n                    <tr>\n                        <th colspan=\"2\">\n                        Class undefined not found in registry \n                        </th>\n                    </tr>\n                </tfoot>\n                </table>"
      }
     },
     "5075d9ad722b4ba1a7a4bfda9dadab69": {
      "model_module_version": "^2.1.4",
      "state": {
       "value": "<table style=\"width:100%\">\n                <thead>\n                    <tr>\n                        <th colspan=\"2\">\n                        Could not create model:\n                        </th>\n                    </tr>\n                </thead>\n                <tbody>\n                    <tr>\n                        <td>Model name</td>\n                        <td> undefined </td>\n                    </tr>\n                    <tr>\n                        <td>Model module</td>\n                        <td> undefined </td>\n                    </tr>\n                    <tr>\n                        <td>Model module version</td>\n                        <td> undefined </td>\n                    </tr>\n                <tbody>\n                <tfoot>\n                    <tr>\n                        <th colspan=\"2\">\n                        Class undefined not found in registry \n                        </th>\n                    </tr>\n                </tfoot>\n                </table>"
      }
     },
     "548a307777e0494c8b6b9c9661ceb315": {
      "model_module_version": "^2.1.4",
      "state": {
       "value": "<table style=\"width:100%\">\n                <thead>\n                    <tr>\n                        <th colspan=\"2\">\n                        Could not create model:\n                        </th>\n                    </tr>\n                </thead>\n                <tbody>\n                    <tr>\n                        <td>Model name</td>\n                        <td> undefined </td>\n                    </tr>\n                    <tr>\n                        <td>Model module</td>\n                        <td> undefined </td>\n                    </tr>\n                    <tr>\n                        <td>Model module version</td>\n                        <td> undefined </td>\n                    </tr>\n                <tbody>\n                <tfoot>\n                    <tr>\n                        <th colspan=\"2\">\n                        Class undefined not found in registry \n                        </th>\n                    </tr>\n                </tfoot>\n                </table>"
      }
     },
     "54be096a99a44c2db5f6868f3a7523ac": {
      "model_module_version": "^2.1.4",
      "state": {
       "value": "<table style=\"width:100%\">\n                <thead>\n                    <tr>\n                        <th colspan=\"2\">\n                        Could not create model:\n                        </th>\n                    </tr>\n                </thead>\n                <tbody>\n                    <tr>\n                        <td>Model name</td>\n                        <td> undefined </td>\n                    </tr>\n                    <tr>\n                        <td>Model module</td>\n                        <td> undefined </td>\n                    </tr>\n                    <tr>\n                        <td>Model module version</td>\n                        <td> undefined </td>\n                    </tr>\n                <tbody>\n                <tfoot>\n                    <tr>\n                        <th colspan=\"2\">\n                        Class undefined not found in registry \n                        </th>\n                    </tr>\n                </tfoot>\n                </table>"
      }
     },
     "68632ac1757d4c1d97fd5492507e3f6c": {
      "model_module_version": "^2.1.4",
      "state": {
       "value": "<table style=\"width:100%\">\n                <thead>\n                    <tr>\n                        <th colspan=\"2\">\n                        Could not create model:\n                        </th>\n                    </tr>\n                </thead>\n                <tbody>\n                    <tr>\n                        <td>Model name</td>\n                        <td> undefined </td>\n                    </tr>\n                    <tr>\n                        <td>Model module</td>\n                        <td> undefined </td>\n                    </tr>\n                    <tr>\n                        <td>Model module version</td>\n                        <td> undefined </td>\n                    </tr>\n                <tbody>\n                <tfoot>\n                    <tr>\n                        <th colspan=\"2\">\n                        Class undefined not found in registry \n                        </th>\n                    </tr>\n                </tfoot>\n                </table>"
      }
     },
     "6a6c879cc89447568708395eebbe89f7": {
      "model_module_version": "^2.1.4",
      "state": {
       "value": "<table style=\"width:100%\">\n                <thead>\n                    <tr>\n                        <th colspan=\"2\">\n                        Could not create model:\n                        </th>\n                    </tr>\n                </thead>\n                <tbody>\n                    <tr>\n                        <td>Model name</td>\n                        <td> undefined </td>\n                    </tr>\n                    <tr>\n                        <td>Model module</td>\n                        <td> undefined </td>\n                    </tr>\n                    <tr>\n                        <td>Model module version</td>\n                        <td> undefined </td>\n                    </tr>\n                <tbody>\n                <tfoot>\n                    <tr>\n                        <th colspan=\"2\">\n                        Class undefined not found in registry \n                        </th>\n                    </tr>\n                </tfoot>\n                </table>"
      }
     },
     "95f5e41b545f4924bb7b1c3de84d4c09": {
      "model_module_version": "^2.1.4",
      "state": {
       "value": "<table style=\"width:100%\">\n                <thead>\n                    <tr>\n                        <th colspan=\"2\">\n                        Could not create model:\n                        </th>\n                    </tr>\n                </thead>\n                <tbody>\n                    <tr>\n                        <td>Model name</td>\n                        <td> undefined </td>\n                    </tr>\n                    <tr>\n                        <td>Model module</td>\n                        <td> undefined </td>\n                    </tr>\n                    <tr>\n                        <td>Model module version</td>\n                        <td> undefined </td>\n                    </tr>\n                <tbody>\n                <tfoot>\n                    <tr>\n                        <th colspan=\"2\">\n                        Class undefined not found in registry \n                        </th>\n                    </tr>\n                </tfoot>\n                </table>"
      }
     },
     "9a42c128c26345a2bbd12dfda5a5eb6c": {
      "model_module_version": "^2.1.4",
      "state": {
       "value": "<table style=\"width:100%\">\n                <thead>\n                    <tr>\n                        <th colspan=\"2\">\n                        Could not create model:\n                        </th>\n                    </tr>\n                </thead>\n                <tbody>\n                    <tr>\n                        <td>Model name</td>\n                        <td> undefined </td>\n                    </tr>\n                    <tr>\n                        <td>Model module</td>\n                        <td> undefined </td>\n                    </tr>\n                    <tr>\n                        <td>Model module version</td>\n                        <td> undefined </td>\n                    </tr>\n                <tbody>\n                <tfoot>\n                    <tr>\n                        <th colspan=\"2\">\n                        Class undefined not found in registry \n                        </th>\n                    </tr>\n                </tfoot>\n                </table>"
      }
     },
     "a7d99444efd94c8682c679ed29abe39c": {
      "model_module_version": "^2.1.4",
      "state": {
       "value": "<table style=\"width:100%\">\n                <thead>\n                    <tr>\n                        <th colspan=\"2\">\n                        Could not create model:\n                        </th>\n                    </tr>\n                </thead>\n                <tbody>\n                    <tr>\n                        <td>Model name</td>\n                        <td> undefined </td>\n                    </tr>\n                    <tr>\n                        <td>Model module</td>\n                        <td> undefined </td>\n                    </tr>\n                    <tr>\n                        <td>Model module version</td>\n                        <td> undefined </td>\n                    </tr>\n                <tbody>\n                <tfoot>\n                    <tr>\n                        <th colspan=\"2\">\n                        Class undefined not found in registry \n                        </th>\n                    </tr>\n                </tfoot>\n                </table>"
      }
     },
     "be455433dd9948809e61104fb95a223c": {
      "model_module_version": "^2.1.4",
      "state": {
       "value": "<table style=\"width:100%\">\n                <thead>\n                    <tr>\n                        <th colspan=\"2\">\n                        Could not create model:\n                        </th>\n                    </tr>\n                </thead>\n                <tbody>\n                    <tr>\n                        <td>Model name</td>\n                        <td> undefined </td>\n                    </tr>\n                    <tr>\n                        <td>Model module</td>\n                        <td> undefined </td>\n                    </tr>\n                    <tr>\n                        <td>Model module version</td>\n                        <td> undefined </td>\n                    </tr>\n                <tbody>\n                <tfoot>\n                    <tr>\n                        <th colspan=\"2\">\n                        Class undefined not found in registry \n                        </th>\n                    </tr>\n                </tfoot>\n                </table>"
      }
     },
     "c049cedf4df44ff9b2b9b83822347525": {
      "model_module_version": "^2.1.4",
      "state": {
       "value": "<table style=\"width:100%\">\n                <thead>\n                    <tr>\n                        <th colspan=\"2\">\n                        Could not create model:\n                        </th>\n                    </tr>\n                </thead>\n                <tbody>\n                    <tr>\n                        <td>Model name</td>\n                        <td> undefined </td>\n                    </tr>\n                    <tr>\n                        <td>Model module</td>\n                        <td> undefined </td>\n                    </tr>\n                    <tr>\n                        <td>Model module version</td>\n                        <td> undefined </td>\n                    </tr>\n                <tbody>\n                <tfoot>\n                    <tr>\n                        <th colspan=\"2\">\n                        Class undefined not found in registry \n                        </th>\n                    </tr>\n                </tfoot>\n                </table>"
      }
     },
     "c9876e967aaf44848adb662401a2c02e": {
      "model_module_version": "^2.1.4",
      "state": {
       "value": "<table style=\"width:100%\">\n                <thead>\n                    <tr>\n                        <th colspan=\"2\">\n                        Could not create model:\n                        </th>\n                    </tr>\n                </thead>\n                <tbody>\n                    <tr>\n                        <td>Model name</td>\n                        <td> undefined </td>\n                    </tr>\n                    <tr>\n                        <td>Model module</td>\n                        <td> undefined </td>\n                    </tr>\n                    <tr>\n                        <td>Model module version</td>\n                        <td> undefined </td>\n                    </tr>\n                <tbody>\n                <tfoot>\n                    <tr>\n                        <th colspan=\"2\">\n                        Class undefined not found in registry \n                        </th>\n                    </tr>\n                </tfoot>\n                </table>"
      }
     },
     "cb05bf14f3594a1894efd92006d707bf": {
      "model_module_version": "^2.1.4",
      "state": {
       "value": "<table style=\"width:100%\">\n                <thead>\n                    <tr>\n                        <th colspan=\"2\">\n                        Could not create model:\n                        </th>\n                    </tr>\n                </thead>\n                <tbody>\n                    <tr>\n                        <td>Model name</td>\n                        <td> undefined </td>\n                    </tr>\n                    <tr>\n                        <td>Model module</td>\n                        <td> undefined </td>\n                    </tr>\n                    <tr>\n                        <td>Model module version</td>\n                        <td> undefined </td>\n                    </tr>\n                <tbody>\n                <tfoot>\n                    <tr>\n                        <th colspan=\"2\">\n                        Class undefined not found in registry \n                        </th>\n                    </tr>\n                </tfoot>\n                </table>"
      }
     },
     "cd120557e4864d8580cad903dd9715d3": {
      "model_module_version": "^2.1.4",
      "state": {
       "value": "<table style=\"width:100%\">\n                <thead>\n                    <tr>\n                        <th colspan=\"2\">\n                        Could not create model:\n                        </th>\n                    </tr>\n                </thead>\n                <tbody>\n                    <tr>\n                        <td>Model name</td>\n                        <td> undefined </td>\n                    </tr>\n                    <tr>\n                        <td>Model module</td>\n                        <td> undefined </td>\n                    </tr>\n                    <tr>\n                        <td>Model module version</td>\n                        <td> undefined </td>\n                    </tr>\n                <tbody>\n                <tfoot>\n                    <tr>\n                        <th colspan=\"2\">\n                        Class undefined not found in registry \n                        </th>\n                    </tr>\n                </tfoot>\n                </table>"
      }
     },
     "e6bb2e0af9f144d68c5de8e8c3f1215a": {
      "model_module_version": "^2.1.4",
      "state": {
       "value": "<table style=\"width:100%\">\n                <thead>\n                    <tr>\n                        <th colspan=\"2\">\n                        Could not create model:\n                        </th>\n                    </tr>\n                </thead>\n                <tbody>\n                    <tr>\n                        <td>Model name</td>\n                        <td> undefined </td>\n                    </tr>\n                    <tr>\n                        <td>Model module</td>\n                        <td> undefined </td>\n                    </tr>\n                    <tr>\n                        <td>Model module version</td>\n                        <td> undefined </td>\n                    </tr>\n                <tbody>\n                <tfoot>\n                    <tr>\n                        <th colspan=\"2\">\n                        Class undefined not found in registry \n                        </th>\n                    </tr>\n                </tfoot>\n                </table>"
      }
     },
     "f923d474837149eb86ab82b942489241": {
      "model_module_version": "^2.1.4",
      "state": {
       "value": "<table style=\"width:100%\">\n                <thead>\n                    <tr>\n                        <th colspan=\"2\">\n                        Could not create model:\n                        </th>\n                    </tr>\n                </thead>\n                <tbody>\n                    <tr>\n                        <td>Model name</td>\n                        <td> undefined </td>\n                    </tr>\n                    <tr>\n                        <td>Model module</td>\n                        <td> undefined </td>\n                    </tr>\n                    <tr>\n                        <td>Model module version</td>\n                        <td> undefined </td>\n                    </tr>\n                <tbody>\n                <tfoot>\n                    <tr>\n                        <th colspan=\"2\">\n                        Class undefined not found in registry \n                        </th>\n                    </tr>\n                </tfoot>\n                </table>"
      }
     }
    },
    "version_major": 1,
    "version_minor": 0
   }
  }
 },
 "nbformat": 4,
 "nbformat_minor": 2
}
